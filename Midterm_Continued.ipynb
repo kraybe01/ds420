{
 "cells": [
  {
   "cell_type": "markdown",
   "metadata": {},
   "source": [
    "# H-1B Prediction\n",
    "Classification of \"CASE_STATUS\""
   ]
  },
  {
   "cell_type": "code",
   "execution_count": 70,
   "metadata": {},
   "outputs": [],
   "source": [
    "import pandas as pd\n",
    "import numpy as np\n",
    "from mpl_toolkits.mplot3d import Axes3D\n",
    "from matplotlib import pyplot as plt\n",
    "import seaborn as sns\n",
    "import math\n",
    "from sklearn import metrics \n",
    "from sklearn.decomposition import PCA\n",
    "import random\n",
    "from sklearn.naive_bayes import GaussianNB\n",
    "from sklearn.tree import DecisionTreeClassifier\n",
    "from sklearn.linear_model import LogisticRegression\n",
    "import scipy\n",
    "from time import time\n",
    "from matplotlib.gridspec import GridSpec\n",
    "from matplotlib.ticker import FuncFormatter\n",
    "from sklearn.pipeline import Pipeline\n",
    "from sklearn.preprocessing import LabelEncoder\n",
    "from sklearn.preprocessing import MinMaxScaler\n",
    "from sklearn.model_selection import train_test_split \n",
    "from sklearn.metrics import accuracy_score, classification_report, confusion_matrix, roc_curve, roc_auc_score"
   ]
  },
  {
   "cell_type": "markdown",
   "metadata": {},
   "source": [
    "## Exploring the Data"
   ]
  },
  {
   "cell_type": "code",
   "execution_count": 71,
   "metadata": {},
   "outputs": [],
   "source": [
    "# The data set consists of abount 3,000,000 rows.\n",
    "# Reading 10% of the dataset, randomly...\n",
    "n = 10  # every 10th line\n",
    "data = pd.read_csv(\"h1b_kaggle.csv\", engine=\"python\", skiprows=lambda i: i % n != 0, index_col=0)"
   ]
  },
  {
   "cell_type": "code",
   "execution_count": 72,
   "metadata": {},
   "outputs": [
    {
     "name": "stdout",
     "output_type": "stream",
     "text": [
      "Total H1B cases: 300245\n"
     ]
    }
   ],
   "source": [
    "# Keep in mind that this is about 10% of the total amount of cases in the originl dataset. I did this for efficiency.\n",
    "print('Total H1B cases:',data.shape[0])"
   ]
  },
  {
   "cell_type": "code",
   "execution_count": 73,
   "metadata": {},
   "outputs": [
    {
     "data": {
      "text/html": [
       "<div>\n",
       "<style scoped>\n",
       "    .dataframe tbody tr th:only-of-type {\n",
       "        vertical-align: middle;\n",
       "    }\n",
       "\n",
       "    .dataframe tbody tr th {\n",
       "        vertical-align: top;\n",
       "    }\n",
       "\n",
       "    .dataframe thead th {\n",
       "        text-align: right;\n",
       "    }\n",
       "</style>\n",
       "<table border=\"1\" class=\"dataframe\">\n",
       "  <thead>\n",
       "    <tr style=\"text-align: right;\">\n",
       "      <th></th>\n",
       "      <th>CASE_STATUS</th>\n",
       "      <th>EMPLOYER_NAME</th>\n",
       "      <th>SOC_NAME</th>\n",
       "      <th>JOB_TITLE</th>\n",
       "      <th>FULL_TIME_POSITION</th>\n",
       "      <th>PREVAILING_WAGE</th>\n",
       "      <th>YEAR</th>\n",
       "      <th>WORKSITE</th>\n",
       "      <th>lon</th>\n",
       "      <th>lat</th>\n",
       "    </tr>\n",
       "  </thead>\n",
       "  <tbody>\n",
       "    <tr>\n",
       "      <th>10</th>\n",
       "      <td>WITHDRAWN</td>\n",
       "      <td>LESSARD INTERNATIONAL LLC</td>\n",
       "      <td>CHIEF EXECUTIVES</td>\n",
       "      <td>PRESIDENT</td>\n",
       "      <td>Y</td>\n",
       "      <td>154648.00</td>\n",
       "      <td>2016.0</td>\n",
       "      <td>VIENNA, VIRGINIA</td>\n",
       "      <td>-77.265260</td>\n",
       "      <td>38.901222</td>\n",
       "    </tr>\n",
       "    <tr>\n",
       "      <th>20</th>\n",
       "      <td>CERTIFIED</td>\n",
       "      <td>MCCHRYSTAL GROUP, LLC</td>\n",
       "      <td>CHIEF EXECUTIVES</td>\n",
       "      <td>PRESIDENT, NORTHEAST REGION</td>\n",
       "      <td>Y</td>\n",
       "      <td>241842.00</td>\n",
       "      <td>2016.0</td>\n",
       "      <td>ALEXANDRIA, VIRGINIA</td>\n",
       "      <td>-77.046921</td>\n",
       "      <td>38.804835</td>\n",
       "    </tr>\n",
       "    <tr>\n",
       "      <th>30</th>\n",
       "      <td>CERTIFIED</td>\n",
       "      <td>PERSPECTIVES OF FREEDOM FOUNDATION, INC</td>\n",
       "      <td>CHIEF EXECUTIVES</td>\n",
       "      <td>EXECUTIVE DIRECTOR</td>\n",
       "      <td>Y</td>\n",
       "      <td>95295.98</td>\n",
       "      <td>2016.0</td>\n",
       "      <td>WESTON, FLORIDA</td>\n",
       "      <td>-80.399775</td>\n",
       "      <td>26.100365</td>\n",
       "    </tr>\n",
       "    <tr>\n",
       "      <th>40</th>\n",
       "      <td>DENIED</td>\n",
       "      <td>PARALLELS, INC.</td>\n",
       "      <td>CHIEF EXECUTIVES</td>\n",
       "      <td>CHIEF EXECUTIVE OFFICER</td>\n",
       "      <td>Y</td>\n",
       "      <td>187200.00</td>\n",
       "      <td>2016.0</td>\n",
       "      <td>RENTON, WASHINGTON</td>\n",
       "      <td>-122.217066</td>\n",
       "      <td>47.482878</td>\n",
       "    </tr>\n",
       "    <tr>\n",
       "      <th>50</th>\n",
       "      <td>CERTIFIED</td>\n",
       "      <td>RANCHO LA PUERTA LLC</td>\n",
       "      <td>CHIEF EXECUTIVES</td>\n",
       "      <td>PRESIDENT</td>\n",
       "      <td>Y</td>\n",
       "      <td>197683.20</td>\n",
       "      <td>2016.0</td>\n",
       "      <td>SAN DIEGO, CALIFORNIA</td>\n",
       "      <td>-117.161084</td>\n",
       "      <td>32.715738</td>\n",
       "    </tr>\n",
       "  </tbody>\n",
       "</table>\n",
       "</div>"
      ],
      "text/plain": [
       "   CASE_STATUS                            EMPLOYER_NAME          SOC_NAME  \\\n",
       "10   WITHDRAWN                LESSARD INTERNATIONAL LLC  CHIEF EXECUTIVES   \n",
       "20   CERTIFIED                    MCCHRYSTAL GROUP, LLC  CHIEF EXECUTIVES   \n",
       "30   CERTIFIED  PERSPECTIVES OF FREEDOM FOUNDATION, INC  CHIEF EXECUTIVES   \n",
       "40      DENIED                          PARALLELS, INC.  CHIEF EXECUTIVES   \n",
       "50   CERTIFIED                     RANCHO LA PUERTA LLC  CHIEF EXECUTIVES   \n",
       "\n",
       "                      JOB_TITLE FULL_TIME_POSITION  PREVAILING_WAGE    YEAR  \\\n",
       "10                    PRESIDENT                  Y        154648.00  2016.0   \n",
       "20  PRESIDENT, NORTHEAST REGION                  Y        241842.00  2016.0   \n",
       "30           EXECUTIVE DIRECTOR                  Y         95295.98  2016.0   \n",
       "40      CHIEF EXECUTIVE OFFICER                  Y        187200.00  2016.0   \n",
       "50                    PRESIDENT                  Y        197683.20  2016.0   \n",
       "\n",
       "                 WORKSITE         lon        lat  \n",
       "10       VIENNA, VIRGINIA  -77.265260  38.901222  \n",
       "20   ALEXANDRIA, VIRGINIA  -77.046921  38.804835  \n",
       "30        WESTON, FLORIDA  -80.399775  26.100365  \n",
       "40     RENTON, WASHINGTON -122.217066  47.482878  \n",
       "50  SAN DIEGO, CALIFORNIA -117.161084  32.715738  "
      ]
     },
     "execution_count": 73,
     "metadata": {},
     "output_type": "execute_result"
    }
   ],
   "source": [
    "data.head()"
   ]
  },
  {
   "cell_type": "code",
   "execution_count": 74,
   "metadata": {},
   "outputs": [
    {
     "data": {
      "text/plain": [
       "array(['WITHDRAWN', 'CERTIFIED', 'DENIED', 'CERTIFIED-WITHDRAWN',\n",
       "       'REJECTED', 'INVALIDATED',\n",
       "       'PENDING QUALITY AND COMPLIANCE REVIEW - UNASSIGNED', nan],\n",
       "      dtype=object)"
      ]
     },
     "execution_count": 74,
     "metadata": {},
     "output_type": "execute_result"
    }
   ],
   "source": [
    "# Distinct CASE_STATUS values.\n",
    "data.CASE_STATUS.unique()"
   ]
  },
  {
   "cell_type": "code",
   "execution_count": 75,
   "metadata": {},
   "outputs": [
    {
     "data": {
      "image/png": "[encoded data removed]",
      "text/plain": [
       "<Figure size 720x576 with 1 Axes>"
      ]
     },
     "metadata": {},
     "output_type": "display_data"
    }
   ],
   "source": [
    "plt.figure(figsize=(10,8))\n",
    "ax=data['CASE_STATUS'].value_counts().sort_values(ascending=True).plot.barh(width=0.9,color='black')\n",
    "for i, v in enumerate(data['CASE_STATUS'].value_counts().sort_values(ascending=True).values): \n",
    "    ax.text(.8, i, v,fontsize=12,color='white',weight='bold')\n",
    "plt.title('Total Cases')\n",
    "plt.show()"
   ]
  },
  {
   "cell_type": "markdown",
   "metadata": {},
   "source": [
    "## Cleaning up the data"
   ]
  },
  {
   "cell_type": "markdown",
   "metadata": {},
   "source": [
    "#### From the figure above, we should remove rejected, invalidated, pending review, withdrawn, certified-withdrawn applications. They were removed to leave only two classification results : Certified and Denied, since this is my main focus to predict. "
   ]
  },
  {
   "cell_type": "code",
   "execution_count": 76,
   "metadata": {},
   "outputs": [],
   "source": [
    "data = data[data['CASE_STATUS'] != 'REJECTED']  \n",
    "data = data[data['CASE_STATUS'] != 'INVALIDATED']  \n",
    "data = data[data['CASE_STATUS'] != 'PENDING QUALITY AND COMPLIANCE REVIEW - UNASSIGNED']  \n",
    "data = data[data['CASE_STATUS'] != 'WITHDRAWN'] \n",
    "data = data[data['CASE_STATUS'] != 'CERTIFIED-WITHDRAWN'] \n",
    "\n",
    "# limiting to remove outlier wages above 1,000,000 \n",
    "data.reset_index(drop=True, inplace=True)\n",
    "data = data[(data['PREVAILING_WAGE'] < 1000000)]"
   ]
  },
  {
   "cell_type": "code",
   "execution_count": 77,
   "metadata": {
    "scrolled": true
   },
   "outputs": [
    {
     "data": {
      "image/png": "[encoded data removed]",
      "text/plain": [
       "<Figure size 720x576 with 1 Axes>"
      ]
     },
     "metadata": {},
     "output_type": "display_data"
    }
   ],
   "source": [
    "plt.figure(figsize=(10,8))\n",
    "ax=data['CASE_STATUS'].value_counts().sort_values(ascending=True).plot.barh(width=0.9,color='black')\n",
    "for i, v in enumerate(data['CASE_STATUS'].value_counts().sort_values(ascending=True).values): \n",
    "    ax.text(.8, i, v,fontsize=12,color='white',weight='bold')\n",
    "plt.title('Total Cases')\n",
    "plt.show()"
   ]
  },
  {
   "cell_type": "markdown",
   "metadata": {},
   "source": [
    "## Visualizing the Data"
   ]
  },
  {
   "cell_type": "markdown",
   "metadata": {},
   "source": [
    "#### Showing how many H1-B Applications filed per year from 2011 to 2016"
   ]
  },
  {
   "cell_type": "code",
   "execution_count": 78,
   "metadata": {},
   "outputs": [
    {
     "data": {
      "image/png": "[encoded data removed]",
      "text/plain": [
       "<Figure size 864x432 with 1 Axes>"
      ]
     },
     "metadata": {},
     "output_type": "display_data"
    }
   ],
   "source": [
    "plt.figure(figsize=(12,6))\n",
    "data['YEAR'].value_counts().sort_values().plot(marker='o')\n",
    "plt.title('H1B Applications per Year')\n",
    "plt.xlim([2010,2017])\n",
    "plt.show()"
   ]
  },
  {
   "cell_type": "markdown",
   "metadata": {},
   "source": [
    "#### Showing Which employer has the highest petitions filed each year\n"
   ]
  },
  {
   "cell_type": "code",
   "execution_count": 79,
   "metadata": {},
   "outputs": [
    {
     "data": {
      "image/png": "[encoded data removed]",
      "text/plain": [
       "<Figure size 720x576 with 1 Axes>"
      ]
     },
     "metadata": {},
     "output_type": "display_data"
    }
   ],
   "source": [
    "plt.figure(figsize=(10,8))\n",
    "ax=data['EMPLOYER_NAME'].value_counts().sort_values(ascending=False)[:10].plot.barh(width=0.9,color='black')\n",
    "for i, v in enumerate(data['EMPLOYER_NAME'].value_counts().sort_values(ascending=False).values[:10]): \n",
    "    ax.text(.8, i, v,fontsize=12,color='white',weight='bold')\n",
    "plt.title('Highest Employeer')\n",
    "fig=plt.gca()\n",
    "fig.invert_yaxis()\n",
    "plt.show()"
   ]
  },
  {
   "cell_type": "code",
   "execution_count": 80,
   "metadata": {},
   "outputs": [
    {
     "data": {
      "text/html": [
       "<div>\n",
       "<style scoped>\n",
       "    .dataframe tbody tr th:only-of-type {\n",
       "        vertical-align: middle;\n",
       "    }\n",
       "\n",
       "    .dataframe tbody tr th {\n",
       "        vertical-align: top;\n",
       "    }\n",
       "\n",
       "    .dataframe thead th {\n",
       "        text-align: right;\n",
       "    }\n",
       "</style>\n",
       "<table border=\"1\" class=\"dataframe\">\n",
       "  <thead>\n",
       "    <tr style=\"text-align: right;\">\n",
       "      <th></th>\n",
       "      <th>SOC_NAME</th>\n",
       "      <th>FULL_TIME_POSITION</th>\n",
       "      <th>PREVAILING_WAGE</th>\n",
       "      <th>YEAR</th>\n",
       "    </tr>\n",
       "  </thead>\n",
       "  <tbody>\n",
       "    <tr>\n",
       "      <th>0</th>\n",
       "      <td>CHIEF EXECUTIVES</td>\n",
       "      <td>Y</td>\n",
       "      <td>241842.0</td>\n",
       "      <td>2016.0</td>\n",
       "    </tr>\n",
       "  </tbody>\n",
       "</table>\n",
       "</div>"
      ],
      "text/plain": [
       "           SOC_NAME FULL_TIME_POSITION  PREVAILING_WAGE    YEAR\n",
       "0  CHIEF EXECUTIVES                  Y         241842.0  2016.0"
      ]
     },
     "execution_count": 80,
     "metadata": {},
     "output_type": "execute_result"
    }
   ],
   "source": [
    "# Features & outcome \n",
    "classifier = data['CASE_STATUS']\n",
    "classfiee = data.drop(['CASE_STATUS','EMPLOYER_NAME','JOB_TITLE', 'lon', 'lat', 'WORKSITE'], axis = 1)\n",
    "classfiee.head(1)"
   ]
  },
  {
   "cell_type": "markdown",
   "metadata": {},
   "source": [
    "#### Showing the amount applications filed based on location"
   ]
  },
  {
   "cell_type": "code",
   "execution_count": 81,
   "metadata": {},
   "outputs": [
    {
     "name": "stdout",
     "output_type": "stream",
     "text": [
      "\n",
      "Number of applications grouped by worksite:\n",
      "\n",
      " NEW YORK, NEW YORK           17228\n",
      "HOUSTON, TEXAS                7566\n",
      "SAN FRANCISCO, CALIFORNIA     5552\n",
      "ATLANTA, GEORGIA              4794\n",
      "CHICAGO, ILLINOIS             4657\n",
      "Name: WORKSITE, dtype: int64\n"
     ]
    },
    {
     "data": {
      "image/png": "[encoded data removed]",
      "text/plain": [
       "<Figure size 720x576 with 1 Axes>"
      ]
     },
     "metadata": {},
     "output_type": "display_data"
    }
   ],
   "source": [
    "worksite = data['WORKSITE'].value_counts()\n",
    "print('\\nNumber of applications grouped by worksite:\\n\\n', worksite.head(5))\n",
    "plt.figure(figsize=(10,8))\n",
    "ax = worksite.head(10).plot(kind='barh', width=0.9, stacked=True, title='Applications grouped by worksite', color='black')\n",
    "fig=plt.gca()\n",
    "fig.invert_yaxis()\n",
    "ax.set_xlabel(\"Worksite\")\n",
    "ax.set_ylabel('Number of applications')\n",
    "ax.spines['top'].set_visible(False)\n",
    "ax.spines['right'].set_visible(False)"
   ]
  },
  {
   "cell_type": "markdown",
   "metadata": {},
   "source": [
    "#### Showing the count of applications by job title\n"
   ]
  },
  {
   "cell_type": "code",
   "execution_count": 82,
   "metadata": {},
   "outputs": [
    {
     "name": "stdout",
     "output_type": "stream",
     "text": [
      "\n",
      "Number of applications by job title:\n",
      "\n",
      " PROGRAMMER ANALYST     22706\n",
      "SOFTWARE ENGINEER      10526\n",
      "COMPUTER PROGRAMMER     6503\n",
      "SYSTEMS ANALYST         5618\n",
      "SOFTWARE DEVELOPER      3932\n",
      "Name: JOB_TITLE, dtype: int64\n"
     ]
    },
    {
     "data": {
      "image/png": "[encoded data removed]",
      "text/plain": [
       "<Figure size 720x576 with 1 Axes>"
      ]
     },
     "metadata": {},
     "output_type": "display_data"
    }
   ],
   "source": [
    "job_title = data['JOB_TITLE'].value_counts()\n",
    "print('\\nNumber of applications by job title:\\n\\n', job_title.head(5))\n",
    "\n",
    "plt.figure(figsize=(10,8))\n",
    "ax = job_title.head(10).plot(kind='barh', width=0.9, stacked=True, title='Applications grouped by job title', color='black')\n",
    "fig=plt.gca()\n",
    "fig.invert_yaxis()\n",
    "ax.set_xlabel(\"Job title\")\n",
    "ax.set_ylabel('Number of applications')\n",
    "ax.spines['top'].set_visible(False)\n",
    "ax.spines['right'].set_visible(False)"
   ]
  },
  {
   "cell_type": "markdown",
   "metadata": {},
   "source": [
    "#### Showing some statistical analysis regarding the wages range within the applicants"
   ]
  },
  {
   "cell_type": "code",
   "execution_count": 83,
   "metadata": {},
   "outputs": [
    {
     "name": "stdout",
     "output_type": "stream",
     "text": [
      "Statistics for H1-B Visa Applications:\n",
      "\n",
      "Minimum wage: $0.00\n",
      "Maximum wage: $952,728.00\n",
      "Mean wage: $70,514.77\n",
      "Median wage $65,042.00\n",
      "Standard deviation of wage: $26,839.16\n"
     ]
    }
   ],
   "source": [
    "print(\"Statistics for H1-B Visa Applications:\\n\")\n",
    "print(\"Minimum wage: ${:,.2f}\".format(min(classfiee['PREVAILING_WAGE'])))\n",
    "print(\"Maximum wage: ${:,.2f}\".format(max(classfiee['PREVAILING_WAGE'])))\n",
    "print(\"Mean wage: ${:,.2f}\".format(np.mean(classfiee['PREVAILING_WAGE'])))\n",
    "print(\"Median wage ${:,.2f}\".format(np.median(classfiee['PREVAILING_WAGE'])))\n",
    "print(\"Standard deviation of wage: ${:,.2f}\".format(np.std(classfiee['PREVAILING_WAGE'])))"
   ]
  },
  {
   "cell_type": "markdown",
   "metadata": {},
   "source": [
    "## Preparing the data for Classification"
   ]
  },
  {
   "cell_type": "markdown",
   "metadata": {},
   "source": [
    "#### One Hot Encoding\n"
   ]
  },
  {
   "cell_type": "code",
   "execution_count": 84,
   "metadata": {},
   "outputs": [
    {
     "name": "stdout",
     "output_type": "stream",
     "text": [
      "1238 total features after one-hot encoding.\n"
     ]
    }
   ],
   "source": [
    "classifier = classifier.apply(lambda x: 1 if x == 'CERTIFIED' else x)\n",
    "classifier = classifier.apply(lambda x: 2 if x == 'DENIED' else x)\n",
    "\n",
    "converted = pd.get_dummies(classfiee)\n",
    "\n",
    "encoded = list(converted.columns)\n",
    "print(\"{} total features after one-hot encoding.\".format(len(encoded)))"
   ]
  },
  {
   "cell_type": "code",
   "execution_count": 85,
   "metadata": {},
   "outputs": [
    {
     "data": {
      "text/plain": [
       "0    1\n",
       "1    1\n",
       "2    2\n",
       "3    1\n",
       "4    1\n",
       "Name: CASE_STATUS, dtype: int64"
      ]
     },
     "execution_count": 85,
     "metadata": {},
     "output_type": "execute_result"
    }
   ],
   "source": [
    "classifier.head()"
   ]
  },
  {
   "cell_type": "code",
   "execution_count": 147,
   "metadata": {},
   "outputs": [
    {
     "data": {
      "text/html": [
       "<div>\n",
       "<style scoped>\n",
       "    .dataframe tbody tr th:only-of-type {\n",
       "        vertical-align: middle;\n",
       "    }\n",
       "\n",
       "    .dataframe tbody tr th {\n",
       "        vertical-align: top;\n",
       "    }\n",
       "\n",
       "    .dataframe thead th {\n",
       "        text-align: right;\n",
       "    }\n",
       "</style>\n",
       "<table border=\"1\" class=\"dataframe\">\n",
       "  <thead>\n",
       "    <tr style=\"text-align: right;\">\n",
       "      <th></th>\n",
       "      <th>PREVAILING_WAGE</th>\n",
       "      <th>YEAR</th>\n",
       "      <th>SOC_NAME_ACCOUNTANTS</th>\n",
       "      <th>SOC_NAME_ACCOUNTANTS AND AUDITORS</th>\n",
       "      <th>SOC_NAME_ACTUARIES</th>\n",
       "      <th>SOC_NAME_ADMINISTRATIVE SERVICES MANAGERS</th>\n",
       "      <th>SOC_NAME_ADULT BASIC AND SECONDARY EDUCATION AND LITERACY</th>\n",
       "      <th>SOC_NAME_ADVERTISING AND PROMOTIONS MANAGER</th>\n",
       "      <th>SOC_NAME_ADVERTISING AND PROMOTIONS MANAGERS</th>\n",
       "      <th>SOC_NAME_ADVERTISING SALES AGENTS</th>\n",
       "      <th>...</th>\n",
       "      <th>SOC_NAME_Web Administrators</th>\n",
       "      <th>SOC_NAME_Web Developers</th>\n",
       "      <th>SOC_NAME_Welders, Cutters, Solderers, and Brazers</th>\n",
       "      <th>SOC_NAME_Wholesale and Retail Buyers, Except Farm Products</th>\n",
       "      <th>SOC_NAME_Woodworkers, All Other</th>\n",
       "      <th>SOC_NAME_Writers and Authors</th>\n",
       "      <th>SOC_NAME_ZOOLOGISTS AND WILDLIFE BIOLOGISTS</th>\n",
       "      <th>SOC_NAME_Zoologists and Wildlife Biologists</th>\n",
       "      <th>FULL_TIME_POSITION_N</th>\n",
       "      <th>FULL_TIME_POSITION_Y</th>\n",
       "    </tr>\n",
       "  </thead>\n",
       "  <tbody>\n",
       "    <tr>\n",
       "      <th>0</th>\n",
       "      <td>241842.00</td>\n",
       "      <td>2016.0</td>\n",
       "      <td>0</td>\n",
       "      <td>0</td>\n",
       "      <td>0</td>\n",
       "      <td>0</td>\n",
       "      <td>0</td>\n",
       "      <td>0</td>\n",
       "      <td>0</td>\n",
       "      <td>0</td>\n",
       "      <td>...</td>\n",
       "      <td>0</td>\n",
       "      <td>0</td>\n",
       "      <td>0</td>\n",
       "      <td>0</td>\n",
       "      <td>0</td>\n",
       "      <td>0</td>\n",
       "      <td>0</td>\n",
       "      <td>0</td>\n",
       "      <td>0</td>\n",
       "      <td>1</td>\n",
       "    </tr>\n",
       "    <tr>\n",
       "      <th>1</th>\n",
       "      <td>95295.98</td>\n",
       "      <td>2016.0</td>\n",
       "      <td>0</td>\n",
       "      <td>0</td>\n",
       "      <td>0</td>\n",
       "      <td>0</td>\n",
       "      <td>0</td>\n",
       "      <td>0</td>\n",
       "      <td>0</td>\n",
       "      <td>0</td>\n",
       "      <td>...</td>\n",
       "      <td>0</td>\n",
       "      <td>0</td>\n",
       "      <td>0</td>\n",
       "      <td>0</td>\n",
       "      <td>0</td>\n",
       "      <td>0</td>\n",
       "      <td>0</td>\n",
       "      <td>0</td>\n",
       "      <td>0</td>\n",
       "      <td>1</td>\n",
       "    </tr>\n",
       "    <tr>\n",
       "      <th>2</th>\n",
       "      <td>187200.00</td>\n",
       "      <td>2016.0</td>\n",
       "      <td>0</td>\n",
       "      <td>0</td>\n",
       "      <td>0</td>\n",
       "      <td>0</td>\n",
       "      <td>0</td>\n",
       "      <td>0</td>\n",
       "      <td>0</td>\n",
       "      <td>0</td>\n",
       "      <td>...</td>\n",
       "      <td>0</td>\n",
       "      <td>0</td>\n",
       "      <td>0</td>\n",
       "      <td>0</td>\n",
       "      <td>0</td>\n",
       "      <td>0</td>\n",
       "      <td>0</td>\n",
       "      <td>0</td>\n",
       "      <td>0</td>\n",
       "      <td>1</td>\n",
       "    </tr>\n",
       "    <tr>\n",
       "      <th>3</th>\n",
       "      <td>197683.20</td>\n",
       "      <td>2016.0</td>\n",
       "      <td>0</td>\n",
       "      <td>0</td>\n",
       "      <td>0</td>\n",
       "      <td>0</td>\n",
       "      <td>0</td>\n",
       "      <td>0</td>\n",
       "      <td>0</td>\n",
       "      <td>0</td>\n",
       "      <td>...</td>\n",
       "      <td>0</td>\n",
       "      <td>0</td>\n",
       "      <td>0</td>\n",
       "      <td>0</td>\n",
       "      <td>0</td>\n",
       "      <td>0</td>\n",
       "      <td>0</td>\n",
       "      <td>0</td>\n",
       "      <td>0</td>\n",
       "      <td>1</td>\n",
       "    </tr>\n",
       "    <tr>\n",
       "      <th>4</th>\n",
       "      <td>187075.00</td>\n",
       "      <td>2016.0</td>\n",
       "      <td>0</td>\n",
       "      <td>0</td>\n",
       "      <td>0</td>\n",
       "      <td>0</td>\n",
       "      <td>0</td>\n",
       "      <td>0</td>\n",
       "      <td>0</td>\n",
       "      <td>0</td>\n",
       "      <td>...</td>\n",
       "      <td>0</td>\n",
       "      <td>0</td>\n",
       "      <td>0</td>\n",
       "      <td>0</td>\n",
       "      <td>0</td>\n",
       "      <td>0</td>\n",
       "      <td>0</td>\n",
       "      <td>0</td>\n",
       "      <td>0</td>\n",
       "      <td>1</td>\n",
       "    </tr>\n",
       "  </tbody>\n",
       "</table>\n",
       "<p>5 rows × 1238 columns</p>\n",
       "</div>"
      ],
      "text/plain": [
       "   PREVAILING_WAGE    YEAR  SOC_NAME_ACCOUNTANTS  \\\n",
       "0        241842.00  2016.0                     0   \n",
       "1         95295.98  2016.0                     0   \n",
       "2        187200.00  2016.0                     0   \n",
       "3        197683.20  2016.0                     0   \n",
       "4        187075.00  2016.0                     0   \n",
       "\n",
       "   SOC_NAME_ACCOUNTANTS AND AUDITORS  SOC_NAME_ACTUARIES  \\\n",
       "0                                  0                   0   \n",
       "1                                  0                   0   \n",
       "2                                  0                   0   \n",
       "3                                  0                   0   \n",
       "4                                  0                   0   \n",
       "\n",
       "   SOC_NAME_ADMINISTRATIVE SERVICES MANAGERS  \\\n",
       "0                                          0   \n",
       "1                                          0   \n",
       "2                                          0   \n",
       "3                                          0   \n",
       "4                                          0   \n",
       "\n",
       "   SOC_NAME_ADULT BASIC AND SECONDARY EDUCATION AND LITERACY  \\\n",
       "0                                                  0           \n",
       "1                                                  0           \n",
       "2                                                  0           \n",
       "3                                                  0           \n",
       "4                                                  0           \n",
       "\n",
       "   SOC_NAME_ADVERTISING AND PROMOTIONS MANAGER  \\\n",
       "0                                            0   \n",
       "1                                            0   \n",
       "2                                            0   \n",
       "3                                            0   \n",
       "4                                            0   \n",
       "\n",
       "   SOC_NAME_ADVERTISING AND PROMOTIONS MANAGERS  \\\n",
       "0                                             0   \n",
       "1                                             0   \n",
       "2                                             0   \n",
       "3                                             0   \n",
       "4                                             0   \n",
       "\n",
       "   SOC_NAME_ADVERTISING SALES AGENTS          ...           \\\n",
       "0                                  0          ...            \n",
       "1                                  0          ...            \n",
       "2                                  0          ...            \n",
       "3                                  0          ...            \n",
       "4                                  0          ...            \n",
       "\n",
       "   SOC_NAME_Web Administrators  SOC_NAME_Web Developers  \\\n",
       "0                            0                        0   \n",
       "1                            0                        0   \n",
       "2                            0                        0   \n",
       "3                            0                        0   \n",
       "4                            0                        0   \n",
       "\n",
       "   SOC_NAME_Welders, Cutters, Solderers, and Brazers  \\\n",
       "0                                                  0   \n",
       "1                                                  0   \n",
       "2                                                  0   \n",
       "3                                                  0   \n",
       "4                                                  0   \n",
       "\n",
       "   SOC_NAME_Wholesale and Retail Buyers, Except Farm Products  \\\n",
       "0                                                  0            \n",
       "1                                                  0            \n",
       "2                                                  0            \n",
       "3                                                  0            \n",
       "4                                                  0            \n",
       "\n",
       "   SOC_NAME_Woodworkers, All Other  SOC_NAME_Writers and Authors  \\\n",
       "0                                0                             0   \n",
       "1                                0                             0   \n",
       "2                                0                             0   \n",
       "3                                0                             0   \n",
       "4                                0                             0   \n",
       "\n",
       "   SOC_NAME_ZOOLOGISTS AND WILDLIFE BIOLOGISTS  \\\n",
       "0                                            0   \n",
       "1                                            0   \n",
       "2                                            0   \n",
       "3                                            0   \n",
       "4                                            0   \n",
       "\n",
       "   SOC_NAME_Zoologists and Wildlife Biologists  FULL_TIME_POSITION_N  \\\n",
       "0                                            0                     0   \n",
       "1                                            0                     0   \n",
       "2                                            0                     0   \n",
       "3                                            0                     0   \n",
       "4                                            0                     0   \n",
       "\n",
       "   FULL_TIME_POSITION_Y  \n",
       "0                     1  \n",
       "1                     1  \n",
       "2                     1  \n",
       "3                     1  \n",
       "4                     1  \n",
       "\n",
       "[5 rows x 1238 columns]"
      ]
     },
     "execution_count": 147,
     "metadata": {},
     "output_type": "execute_result"
    }
   ],
   "source": [
    "converted.head()"
   ]
  },
  {
   "cell_type": "code",
   "execution_count": null,
   "metadata": {},
   "outputs": [],
   "source": []
  },
  {
   "cell_type": "code",
   "execution_count": 87,
   "metadata": {},
   "outputs": [],
   "source": [
    "dict = {1:0, 2:1}\n",
    "\n",
    "class1 = classifier.map(dict)"
   ]
  },
  {
   "cell_type": "code",
   "execution_count": 88,
   "metadata": {},
   "outputs": [
    {
     "data": {
      "text/plain": [
       "0    0\n",
       "1    0\n",
       "2    1\n",
       "3    0\n",
       "4    0\n",
       "Name: CASE_STATUS, dtype: int64"
      ]
     },
     "execution_count": 88,
     "metadata": {},
     "output_type": "execute_result"
    }
   ],
   "source": [
    "class1.head()"
   ]
  },
  {
   "cell_type": "markdown",
   "metadata": {},
   "source": [
    "#### Splitting the data into training and testing sets\n"
   ]
  },
  {
   "cell_type": "code",
   "execution_count": 123,
   "metadata": {
    "scrolled": true
   },
   "outputs": [
    {
     "name": "stdout",
     "output_type": "stream",
     "text": [
      "Training set = 216704 samples.\n",
      "Testing set = 54177 samples.\n"
     ]
    }
   ],
   "source": [
    "X_train, X_test, y_train, y_test = train_test_split(converted, class1, test_size=0.2, random_state=11)\n",
    "\n",
    "print(\"Training set = {} samples.\".format(X_train.shape[0]))\n",
    "print(\"Testing set = {} samples.\".format(X_test.shape[0]))"
   ]
  },
  {
   "cell_type": "markdown",
   "metadata": {},
   "source": [
    "#### Creating a Training and Predicting Pipeline \n"
   ]
  },
  {
   "cell_type": "code",
   "execution_count": 90,
   "metadata": {},
   "outputs": [],
   "source": [
    "def train_predict(learner, X_train, y_train, X_test, y_test): \n",
    "    results = {}\n",
    "    learner = learner.fit(X_train, y_train)\n",
    "    \n",
    "    # Getting the predictions on the test set & on the first 10% of the training samples \n",
    "    predictions_test = learner.predict(X_test)\n",
    "    predictions_train = learner.predict(X_train)\n",
    "        \n",
    "    #results['accuracy_test'] = round(accuracy_score(y_test, predictions_test), 5)\n",
    "    print(\"Accuracy Score: \\n\", round(accuracy_score(y_test, predictions_test), 5))\n",
    "\n",
    "    #results['confusion_matrix_test'] = confusion_matrix(y_test, predictions_test)\n",
    "    print(\"Confusion Matrix: \\n\", confusion_matrix(y_test, predictions_test))\n",
    "   \n",
    "    #results['classification_report_test'] = classification_report(y_test, predictions_test)\n",
    "    print('Classification Report: \\n', classification_report(y_test, predictions_test))\n",
    "    \n",
    "    \n",
    "    #results['roc_auc_score_test'] = round(roc_auc_score(y_test, predictions_test), 5)\n",
    "    print('roc_auc_score_test: \\n', round(roc_auc_score(y_test, predictions_test),5))\n",
    "\n",
    "    # the print statements for each method results are used to make the display of outputs look better and more presentable. \n",
    "    return results\n",
    "    \n"
   ]
  },
  {
   "cell_type": "markdown",
   "metadata": {},
   "source": [
    "## Classification Time"
   ]
  },
  {
   "cell_type": "markdown",
   "metadata": {},
   "source": [
    "### 1- Bayesian Classification\n"
   ]
  },
  {
   "cell_type": "code",
   "execution_count": 91,
   "metadata": {},
   "outputs": [
    {
     "name": "stdout",
     "output_type": "stream",
     "text": [
      "Accuracy Score: \n",
      " 0.95705\n",
      "Confusion Matrix: \n",
      " [[51786   625]\n",
      " [ 1702    64]]\n",
      "Classification Report: \n",
      "              precision    recall  f1-score   support\n",
      "\n",
      "          0       0.97      0.99      0.98     52411\n",
      "          1       0.09      0.04      0.05      1766\n",
      "\n",
      "avg / total       0.94      0.96      0.95     54177\n",
      "\n",
      "roc_auc_score_test: \n",
      " 0.51216\n"
     ]
    },
    {
     "data": {
      "text/plain": [
       "{}"
      ]
     },
     "execution_count": 91,
     "metadata": {},
     "output_type": "execute_result"
    }
   ],
   "source": [
    "bc = GaussianNB()\n",
    "train_predict(bc, X_train, y_train, X_test, y_test)"
   ]
  },
  {
   "cell_type": "markdown",
   "metadata": {},
   "source": [
    "### 2-Logistic Regression"
   ]
  },
  {
   "cell_type": "code",
   "execution_count": 92,
   "metadata": {},
   "outputs": [
    {
     "name": "stdout",
     "output_type": "stream",
     "text": [
      "Accuracy Score: \n",
      " 0.9674\n",
      "Confusion Matrix: \n",
      " [[52411     0]\n",
      " [ 1766     0]]\n",
      "Classification Report: \n",
      "              precision    recall  f1-score   support\n",
      "\n",
      "          0       0.97      1.00      0.98     52411\n",
      "          1       0.00      0.00      0.00      1766\n",
      "\n",
      "avg / total       0.94      0.97      0.95     54177\n",
      "\n",
      "roc_auc_score_test: \n",
      " 0.5\n"
     ]
    },
    {
     "name": "stderr",
     "output_type": "stream",
     "text": [
      "/usr/local/lib/python3.5/site-packages/sklearn/metrics/classification.py:1135: UndefinedMetricWarning: Precision and F-score are ill-defined and being set to 0.0 in labels with no predicted samples.\n",
      "  'precision', 'predicted', average, warn_for)\n"
     ]
    },
    {
     "data": {
      "text/plain": [
       "{}"
      ]
     },
     "execution_count": 92,
     "metadata": {},
     "output_type": "execute_result"
    }
   ],
   "source": [
    "lr = LogisticRegression()\n",
    "train_predict(lr, X_train, y_train, X_test, y_test)"
   ]
  },
  {
   "cell_type": "markdown",
   "metadata": {},
   "source": [
    "### 3-Gausian NB\n"
   ]
  },
  {
   "cell_type": "code",
   "execution_count": 93,
   "metadata": {},
   "outputs": [
    {
     "name": "stdout",
     "output_type": "stream",
     "text": [
      "Accuracy Score: \n",
      " 0.95705\n",
      "Confusion Matrix: \n",
      " [[51786   625]\n",
      " [ 1702    64]]\n",
      "Classification Report: \n",
      "              precision    recall  f1-score   support\n",
      "\n",
      "          0       0.97      0.99      0.98     52411\n",
      "          1       0.09      0.04      0.05      1766\n",
      "\n",
      "avg / total       0.94      0.96      0.95     54177\n",
      "\n",
      "roc_auc_score_test: \n",
      " 0.51216\n"
     ]
    },
    {
     "data": {
      "text/plain": [
       "{}"
      ]
     },
     "execution_count": 93,
     "metadata": {},
     "output_type": "execute_result"
    }
   ],
   "source": [
    "from sklearn.naive_bayes import GaussianNB\n",
    "gnb = GaussianNB()\n",
    "train_predict(gnb, X_train, y_train, X_test, y_test)\n",
    "\n"
   ]
  },
  {
   "cell_type": "markdown",
   "metadata": {},
   "source": [
    "### 4- Random Forest\n"
   ]
  },
  {
   "cell_type": "code",
   "execution_count": 94,
   "metadata": {},
   "outputs": [
    {
     "name": "stdout",
     "output_type": "stream",
     "text": [
      "Accuracy Score: \n",
      " 0.95618\n",
      "Confusion Matrix: \n",
      " [[51676   735]\n",
      " [ 1639   127]]\n",
      "Classification Report: \n",
      "              precision    recall  f1-score   support\n",
      "\n",
      "          0       0.97      0.99      0.98     52411\n",
      "          1       0.15      0.07      0.10      1766\n",
      "\n",
      "avg / total       0.94      0.96      0.95     54177\n",
      "\n",
      "roc_auc_score_test: \n",
      " 0.52895\n"
     ]
    },
    {
     "data": {
      "text/plain": [
       "{}"
      ]
     },
     "execution_count": 94,
     "metadata": {},
     "output_type": "execute_result"
    }
   ],
   "source": [
    "from sklearn.ensemble import RandomForestClassifier\n",
    "model_RF=RandomForestClassifier()\n",
    "train_predict(model_RF, X_train, y_train, X_test, y_test)\n"
   ]
  },
  {
   "cell_type": "markdown",
   "metadata": {},
   "source": [
    "### Comparison Summary and Conclusion"
   ]
  },
  {
   "cell_type": "markdown",
   "metadata": {},
   "source": [
    "#### These are the false positives and false negatives respectively presented\n"
   ]
  },
  {
   "cell_type": "code",
   "execution_count": 95,
   "metadata": {},
   "outputs": [],
   "source": [
    "Random_forest = (717, 1654)\n",
    "Gausian_NB = (625, 1702)\n",
    "Logistic_Reg = (0, 1766) # has zero false positives, and also the highest accuracy rate of 0.9674\n",
    "Baisian = (625, 1702)\n"
   ]
  },
  {
   "cell_type": "markdown",
   "metadata": {},
   "source": [
    "#### When comparing the four different classification methods, they all seem to have high accuracy rates and similar AUC score tests, while they all had different confusion matrix results, which had me decide to use it as a factor to distinguish which method is the best for this data set. \n",
    "#### Looking at the confusion matrices, It turns out that the Logistic Regression model provides the best results, because what distinguishes it from other models is that fact that it shows zero false positives. This means that it never predicted false application statuses in terms of them being certified. Although this model has some false negatives, it does not have any false positives, which is more valuable since the applicant would rather know that their application was accurately classified and denied, than have false positives and get excited that they got certified and then realized that it was false positive news. Therefore it is believed that logistic regression provides is found to be more reliable and accurate, especially that it has the highest accuracy score  from the other classification methods used. "
   ]
  },
  {
   "cell_type": "markdown",
   "metadata": {},
   "source": [
    "## Further Analysis (Homework Assignment)\n"
   ]
  },
  {
   "cell_type": "code",
   "execution_count": 116,
   "metadata": {},
   "outputs": [],
   "source": [
    "def train_predict(learner, X_train, y_train, X_test, y_test): \n",
    "    results = {}\n",
    "    learner.fit(X_train, y_train)\n",
    "    \n",
    "\n",
    "    predictions_test = learner.predict(X_test)\n",
    "    predictions_train = learner.predict(X_train)\n",
    "    \n",
    "   \n",
    "    print(\"Accuracy Score: \\n\", round(accuracy_score(y_test, predictions_test), 5))\n",
    "\n",
    "    print(\"Confusion Matrix: \\n\", confusion_matrix(y_test, predictions_test))\n",
    "   \n",
    "    print('Classification Report: \\n', classification_report(y_test, predictions_test))\n",
    "      \n",
    "    print('roc_auc_score_test: \\n', round(roc_auc_score(y_test, predictions_test),5))\n",
    "\n",
    "    return predictions_test, predictions_train\n",
    "    "
   ]
  },
  {
   "cell_type": "markdown",
   "metadata": {},
   "source": [
    "#### Looking at the incorrectly classified results in the testing set and using Logistic Regression since I choose it to be the best classification model. I want to explore the false classification it had and explore them further. \n"
   ]
  },
  {
   "cell_type": "code",
   "execution_count": 97,
   "metadata": {},
   "outputs": [
    {
     "name": "stdout",
     "output_type": "stream",
     "text": [
      "Accuracy Score: \n",
      " 0.9674\n",
      "Confusion Matrix: \n",
      " [[52411     0]\n",
      " [ 1766     0]]\n",
      "Classification Report: \n",
      "              precision    recall  f1-score   support\n",
      "\n",
      "          0       0.97      1.00      0.98     52411\n",
      "          1       0.00      0.00      0.00      1766\n",
      "\n",
      "avg / total       0.94      0.97      0.95     54177\n",
      "\n",
      "roc_auc_score_test: \n",
      " 0.5\n"
     ]
    },
    {
     "name": "stderr",
     "output_type": "stream",
     "text": [
      "/usr/local/lib/python3.5/site-packages/sklearn/metrics/classification.py:1135: UndefinedMetricWarning: Precision and F-score are ill-defined and being set to 0.0 in labels with no predicted samples.\n",
      "  'precision', 'predicted', average, warn_for)\n"
     ]
    }
   ],
   "source": [
    "lr = LogisticRegression()\n",
    "saved_test,saved_train = train_predict(lr, X_train, y_train, X_test, y_test)\n"
   ]
  },
  {
   "cell_type": "markdown",
   "metadata": {},
   "source": [
    "#### I decided to stick with the testing set and apply my further analysis and exploration on. \n"
   ]
  },
  {
   "cell_type": "code",
   "execution_count": 121,
   "metadata": {},
   "outputs": [],
   "source": [
    "# Creating a modified x test to add new columns to identify the false classifications\n",
    "modified_x_test = X_test.copy()"
   ]
  },
  {
   "cell_type": "code",
   "execution_count": 155,
   "metadata": {},
   "outputs": [
    {
     "data": {
      "text/html": [
       "<div>\n",
       "<style scoped>\n",
       "    .dataframe tbody tr th:only-of-type {\n",
       "        vertical-align: middle;\n",
       "    }\n",
       "\n",
       "    .dataframe tbody tr th {\n",
       "        vertical-align: top;\n",
       "    }\n",
       "\n",
       "    .dataframe thead th {\n",
       "        text-align: right;\n",
       "    }\n",
       "</style>\n",
       "<table border=\"1\" class=\"dataframe\">\n",
       "  <thead>\n",
       "    <tr style=\"text-align: right;\">\n",
       "      <th></th>\n",
       "      <th>PREVAILING_WAGE</th>\n",
       "      <th>YEAR</th>\n",
       "      <th>SOC_NAME_ACCOUNTANTS</th>\n",
       "      <th>SOC_NAME_ACCOUNTANTS AND AUDITORS</th>\n",
       "      <th>SOC_NAME_ACTUARIES</th>\n",
       "      <th>SOC_NAME_ADMINISTRATIVE SERVICES MANAGERS</th>\n",
       "      <th>SOC_NAME_ADULT BASIC AND SECONDARY EDUCATION AND LITERACY</th>\n",
       "      <th>SOC_NAME_ADVERTISING AND PROMOTIONS MANAGER</th>\n",
       "      <th>SOC_NAME_ADVERTISING AND PROMOTIONS MANAGERS</th>\n",
       "      <th>SOC_NAME_ADVERTISING SALES AGENTS</th>\n",
       "      <th>...</th>\n",
       "      <th>SOC_NAME_Web Administrators</th>\n",
       "      <th>SOC_NAME_Web Developers</th>\n",
       "      <th>SOC_NAME_Welders, Cutters, Solderers, and Brazers</th>\n",
       "      <th>SOC_NAME_Wholesale and Retail Buyers, Except Farm Products</th>\n",
       "      <th>SOC_NAME_Woodworkers, All Other</th>\n",
       "      <th>SOC_NAME_Writers and Authors</th>\n",
       "      <th>SOC_NAME_ZOOLOGISTS AND WILDLIFE BIOLOGISTS</th>\n",
       "      <th>SOC_NAME_Zoologists and Wildlife Biologists</th>\n",
       "      <th>FULL_TIME_POSITION_N</th>\n",
       "      <th>FULL_TIME_POSITION_Y</th>\n",
       "    </tr>\n",
       "  </thead>\n",
       "  <tbody>\n",
       "    <tr>\n",
       "      <th>122669</th>\n",
       "      <td>162219.0</td>\n",
       "      <td>2014.0</td>\n",
       "      <td>0</td>\n",
       "      <td>0</td>\n",
       "      <td>0</td>\n",
       "      <td>0</td>\n",
       "      <td>0</td>\n",
       "      <td>0</td>\n",
       "      <td>0</td>\n",
       "      <td>0</td>\n",
       "      <td>...</td>\n",
       "      <td>0</td>\n",
       "      <td>0</td>\n",
       "      <td>0</td>\n",
       "      <td>0</td>\n",
       "      <td>0</td>\n",
       "      <td>0</td>\n",
       "      <td>0</td>\n",
       "      <td>0</td>\n",
       "      <td>0</td>\n",
       "      <td>1</td>\n",
       "    </tr>\n",
       "    <tr>\n",
       "      <th>151953</th>\n",
       "      <td>88130.0</td>\n",
       "      <td>2014.0</td>\n",
       "      <td>0</td>\n",
       "      <td>0</td>\n",
       "      <td>0</td>\n",
       "      <td>0</td>\n",
       "      <td>0</td>\n",
       "      <td>0</td>\n",
       "      <td>0</td>\n",
       "      <td>0</td>\n",
       "      <td>...</td>\n",
       "      <td>0</td>\n",
       "      <td>0</td>\n",
       "      <td>0</td>\n",
       "      <td>0</td>\n",
       "      <td>0</td>\n",
       "      <td>0</td>\n",
       "      <td>0</td>\n",
       "      <td>0</td>\n",
       "      <td>0</td>\n",
       "      <td>1</td>\n",
       "    </tr>\n",
       "    <tr>\n",
       "      <th>36852</th>\n",
       "      <td>114504.0</td>\n",
       "      <td>2016.0</td>\n",
       "      <td>0</td>\n",
       "      <td>0</td>\n",
       "      <td>0</td>\n",
       "      <td>0</td>\n",
       "      <td>0</td>\n",
       "      <td>0</td>\n",
       "      <td>0</td>\n",
       "      <td>0</td>\n",
       "      <td>...</td>\n",
       "      <td>0</td>\n",
       "      <td>0</td>\n",
       "      <td>0</td>\n",
       "      <td>0</td>\n",
       "      <td>0</td>\n",
       "      <td>0</td>\n",
       "      <td>0</td>\n",
       "      <td>0</td>\n",
       "      <td>0</td>\n",
       "      <td>1</td>\n",
       "    </tr>\n",
       "    <tr>\n",
       "      <th>63389</th>\n",
       "      <td>108098.0</td>\n",
       "      <td>2015.0</td>\n",
       "      <td>0</td>\n",
       "      <td>0</td>\n",
       "      <td>0</td>\n",
       "      <td>0</td>\n",
       "      <td>0</td>\n",
       "      <td>0</td>\n",
       "      <td>0</td>\n",
       "      <td>0</td>\n",
       "      <td>...</td>\n",
       "      <td>0</td>\n",
       "      <td>0</td>\n",
       "      <td>0</td>\n",
       "      <td>0</td>\n",
       "      <td>0</td>\n",
       "      <td>0</td>\n",
       "      <td>0</td>\n",
       "      <td>0</td>\n",
       "      <td>0</td>\n",
       "      <td>1</td>\n",
       "    </tr>\n",
       "    <tr>\n",
       "      <th>22593</th>\n",
       "      <td>51730.0</td>\n",
       "      <td>2016.0</td>\n",
       "      <td>0</td>\n",
       "      <td>0</td>\n",
       "      <td>0</td>\n",
       "      <td>0</td>\n",
       "      <td>0</td>\n",
       "      <td>0</td>\n",
       "      <td>0</td>\n",
       "      <td>0</td>\n",
       "      <td>...</td>\n",
       "      <td>0</td>\n",
       "      <td>0</td>\n",
       "      <td>0</td>\n",
       "      <td>0</td>\n",
       "      <td>0</td>\n",
       "      <td>0</td>\n",
       "      <td>0</td>\n",
       "      <td>0</td>\n",
       "      <td>1</td>\n",
       "      <td>0</td>\n",
       "    </tr>\n",
       "  </tbody>\n",
       "</table>\n",
       "<p>5 rows × 1238 columns</p>\n",
       "</div>"
      ],
      "text/plain": [
       "        PREVAILING_WAGE    YEAR  SOC_NAME_ACCOUNTANTS  \\\n",
       "122669         162219.0  2014.0                     0   \n",
       "151953          88130.0  2014.0                     0   \n",
       "36852          114504.0  2016.0                     0   \n",
       "63389          108098.0  2015.0                     0   \n",
       "22593           51730.0  2016.0                     0   \n",
       "\n",
       "        SOC_NAME_ACCOUNTANTS AND AUDITORS  SOC_NAME_ACTUARIES  \\\n",
       "122669                                  0                   0   \n",
       "151953                                  0                   0   \n",
       "36852                                   0                   0   \n",
       "63389                                   0                   0   \n",
       "22593                                   0                   0   \n",
       "\n",
       "        SOC_NAME_ADMINISTRATIVE SERVICES MANAGERS  \\\n",
       "122669                                          0   \n",
       "151953                                          0   \n",
       "36852                                           0   \n",
       "63389                                           0   \n",
       "22593                                           0   \n",
       "\n",
       "        SOC_NAME_ADULT BASIC AND SECONDARY EDUCATION AND LITERACY  \\\n",
       "122669                                                  0           \n",
       "151953                                                  0           \n",
       "36852                                                   0           \n",
       "63389                                                   0           \n",
       "22593                                                   0           \n",
       "\n",
       "        SOC_NAME_ADVERTISING AND PROMOTIONS MANAGER  \\\n",
       "122669                                            0   \n",
       "151953                                            0   \n",
       "36852                                             0   \n",
       "63389                                             0   \n",
       "22593                                             0   \n",
       "\n",
       "        SOC_NAME_ADVERTISING AND PROMOTIONS MANAGERS  \\\n",
       "122669                                             0   \n",
       "151953                                             0   \n",
       "36852                                              0   \n",
       "63389                                              0   \n",
       "22593                                              0   \n",
       "\n",
       "        SOC_NAME_ADVERTISING SALES AGENTS          ...           \\\n",
       "122669                                  0          ...            \n",
       "151953                                  0          ...            \n",
       "36852                                   0          ...            \n",
       "63389                                   0          ...            \n",
       "22593                                   0          ...            \n",
       "\n",
       "        SOC_NAME_Web Administrators  SOC_NAME_Web Developers  \\\n",
       "122669                            0                        0   \n",
       "151953                            0                        0   \n",
       "36852                             0                        0   \n",
       "63389                             0                        0   \n",
       "22593                             0                        0   \n",
       "\n",
       "        SOC_NAME_Welders, Cutters, Solderers, and Brazers  \\\n",
       "122669                                                  0   \n",
       "151953                                                  0   \n",
       "36852                                                   0   \n",
       "63389                                                   0   \n",
       "22593                                                   0   \n",
       "\n",
       "        SOC_NAME_Wholesale and Retail Buyers, Except Farm Products  \\\n",
       "122669                                                  0            \n",
       "151953                                                  0            \n",
       "36852                                                   0            \n",
       "63389                                                   0            \n",
       "22593                                                   0            \n",
       "\n",
       "        SOC_NAME_Woodworkers, All Other  SOC_NAME_Writers and Authors  \\\n",
       "122669                                0                             0   \n",
       "151953                                0                             0   \n",
       "36852                                 0                             0   \n",
       "63389                                 0                             0   \n",
       "22593                                 0                             0   \n",
       "\n",
       "        SOC_NAME_ZOOLOGISTS AND WILDLIFE BIOLOGISTS  \\\n",
       "122669                                            0   \n",
       "151953                                            0   \n",
       "36852                                             0   \n",
       "63389                                             0   \n",
       "22593                                             0   \n",
       "\n",
       "        SOC_NAME_Zoologists and Wildlife Biologists  FULL_TIME_POSITION_N  \\\n",
       "122669                                            0                     0   \n",
       "151953                                            0                     0   \n",
       "36852                                             0                     0   \n",
       "63389                                             0                     0   \n",
       "22593                                             0                     1   \n",
       "\n",
       "        FULL_TIME_POSITION_Y  \n",
       "122669                     1  \n",
       "151953                     1  \n",
       "36852                      1  \n",
       "63389                      1  \n",
       "22593                      0  \n",
       "\n",
       "[5 rows x 1238 columns]"
      ]
     },
     "execution_count": 155,
     "metadata": {},
     "output_type": "execute_result"
    }
   ],
   "source": [
    "X_test.head()"
   ]
  },
  {
   "cell_type": "code",
   "execution_count": 99,
   "metadata": {},
   "outputs": [
    {
     "name": "stderr",
     "output_type": "stream",
     "text": [
      "/usr/local/lib/python3.5/site-packages/ipykernel_launcher.py:1: SettingWithCopyWarning: \n",
      "A value is trying to be set on a copy of a slice from a DataFrame.\n",
      "Try using .loc[row_indexer,col_indexer] = value instead\n",
      "\n",
      "See the caveats in the documentation: http://pandas.pydata.org/pandas-docs/stable/indexing.html#indexing-view-versus-copy\n",
      "  \"\"\"Entry point for launching an IPython kernel.\n"
     ]
    }
   ],
   "source": [
    "# Adding the Actual status column\n",
    "modified_x_test['Actual_Status'] = y_test "
   ]
  },
  {
   "cell_type": "code",
   "execution_count": 156,
   "metadata": {},
   "outputs": [
    {
     "data": {
      "text/html": [
       "<div>\n",
       "<style scoped>\n",
       "    .dataframe tbody tr th:only-of-type {\n",
       "        vertical-align: middle;\n",
       "    }\n",
       "\n",
       "    .dataframe tbody tr th {\n",
       "        vertical-align: top;\n",
       "    }\n",
       "\n",
       "    .dataframe thead th {\n",
       "        text-align: right;\n",
       "    }\n",
       "</style>\n",
       "<table border=\"1\" class=\"dataframe\">\n",
       "  <thead>\n",
       "    <tr style=\"text-align: right;\">\n",
       "      <th></th>\n",
       "      <th>PREVAILING_WAGE</th>\n",
       "      <th>YEAR</th>\n",
       "      <th>SOC_NAME_ACCOUNTANTS</th>\n",
       "      <th>SOC_NAME_ACCOUNTANTS AND AUDITORS</th>\n",
       "      <th>SOC_NAME_ACTUARIES</th>\n",
       "      <th>SOC_NAME_ADMINISTRATIVE SERVICES MANAGERS</th>\n",
       "      <th>SOC_NAME_ADULT BASIC AND SECONDARY EDUCATION AND LITERACY</th>\n",
       "      <th>SOC_NAME_ADVERTISING AND PROMOTIONS MANAGER</th>\n",
       "      <th>SOC_NAME_ADVERTISING AND PROMOTIONS MANAGERS</th>\n",
       "      <th>SOC_NAME_ADVERTISING SALES AGENTS</th>\n",
       "      <th>...</th>\n",
       "      <th>SOC_NAME_Welders, Cutters, Solderers, and Brazers</th>\n",
       "      <th>SOC_NAME_Wholesale and Retail Buyers, Except Farm Products</th>\n",
       "      <th>SOC_NAME_Woodworkers, All Other</th>\n",
       "      <th>SOC_NAME_Writers and Authors</th>\n",
       "      <th>SOC_NAME_ZOOLOGISTS AND WILDLIFE BIOLOGISTS</th>\n",
       "      <th>SOC_NAME_Zoologists and Wildlife Biologists</th>\n",
       "      <th>FULL_TIME_POSITION_N</th>\n",
       "      <th>FULL_TIME_POSITION_Y</th>\n",
       "      <th>Actual_Status</th>\n",
       "      <th>Predicted_Status</th>\n",
       "    </tr>\n",
       "  </thead>\n",
       "  <tbody>\n",
       "    <tr>\n",
       "      <th>122669</th>\n",
       "      <td>162219.0</td>\n",
       "      <td>2014.0</td>\n",
       "      <td>0</td>\n",
       "      <td>0</td>\n",
       "      <td>0</td>\n",
       "      <td>0</td>\n",
       "      <td>0</td>\n",
       "      <td>0</td>\n",
       "      <td>0</td>\n",
       "      <td>0</td>\n",
       "      <td>...</td>\n",
       "      <td>0</td>\n",
       "      <td>0</td>\n",
       "      <td>0</td>\n",
       "      <td>0</td>\n",
       "      <td>0</td>\n",
       "      <td>0</td>\n",
       "      <td>0</td>\n",
       "      <td>1</td>\n",
       "      <td>1</td>\n",
       "      <td>0</td>\n",
       "    </tr>\n",
       "    <tr>\n",
       "      <th>151953</th>\n",
       "      <td>88130.0</td>\n",
       "      <td>2014.0</td>\n",
       "      <td>0</td>\n",
       "      <td>0</td>\n",
       "      <td>0</td>\n",
       "      <td>0</td>\n",
       "      <td>0</td>\n",
       "      <td>0</td>\n",
       "      <td>0</td>\n",
       "      <td>0</td>\n",
       "      <td>...</td>\n",
       "      <td>0</td>\n",
       "      <td>0</td>\n",
       "      <td>0</td>\n",
       "      <td>0</td>\n",
       "      <td>0</td>\n",
       "      <td>0</td>\n",
       "      <td>0</td>\n",
       "      <td>1</td>\n",
       "      <td>0</td>\n",
       "      <td>0</td>\n",
       "    </tr>\n",
       "    <tr>\n",
       "      <th>36852</th>\n",
       "      <td>114504.0</td>\n",
       "      <td>2016.0</td>\n",
       "      <td>0</td>\n",
       "      <td>0</td>\n",
       "      <td>0</td>\n",
       "      <td>0</td>\n",
       "      <td>0</td>\n",
       "      <td>0</td>\n",
       "      <td>0</td>\n",
       "      <td>0</td>\n",
       "      <td>...</td>\n",
       "      <td>0</td>\n",
       "      <td>0</td>\n",
       "      <td>0</td>\n",
       "      <td>0</td>\n",
       "      <td>0</td>\n",
       "      <td>0</td>\n",
       "      <td>0</td>\n",
       "      <td>1</td>\n",
       "      <td>0</td>\n",
       "      <td>0</td>\n",
       "    </tr>\n",
       "    <tr>\n",
       "      <th>63389</th>\n",
       "      <td>108098.0</td>\n",
       "      <td>2015.0</td>\n",
       "      <td>0</td>\n",
       "      <td>0</td>\n",
       "      <td>0</td>\n",
       "      <td>0</td>\n",
       "      <td>0</td>\n",
       "      <td>0</td>\n",
       "      <td>0</td>\n",
       "      <td>0</td>\n",
       "      <td>...</td>\n",
       "      <td>0</td>\n",
       "      <td>0</td>\n",
       "      <td>0</td>\n",
       "      <td>0</td>\n",
       "      <td>0</td>\n",
       "      <td>0</td>\n",
       "      <td>0</td>\n",
       "      <td>1</td>\n",
       "      <td>0</td>\n",
       "      <td>0</td>\n",
       "    </tr>\n",
       "    <tr>\n",
       "      <th>22593</th>\n",
       "      <td>51730.0</td>\n",
       "      <td>2016.0</td>\n",
       "      <td>0</td>\n",
       "      <td>0</td>\n",
       "      <td>0</td>\n",
       "      <td>0</td>\n",
       "      <td>0</td>\n",
       "      <td>0</td>\n",
       "      <td>0</td>\n",
       "      <td>0</td>\n",
       "      <td>...</td>\n",
       "      <td>0</td>\n",
       "      <td>0</td>\n",
       "      <td>0</td>\n",
       "      <td>0</td>\n",
       "      <td>0</td>\n",
       "      <td>0</td>\n",
       "      <td>1</td>\n",
       "      <td>0</td>\n",
       "      <td>0</td>\n",
       "      <td>0</td>\n",
       "    </tr>\n",
       "  </tbody>\n",
       "</table>\n",
       "<p>5 rows × 1240 columns</p>\n",
       "</div>"
      ],
      "text/plain": [
       "        PREVAILING_WAGE    YEAR  SOC_NAME_ACCOUNTANTS  \\\n",
       "122669         162219.0  2014.0                     0   \n",
       "151953          88130.0  2014.0                     0   \n",
       "36852          114504.0  2016.0                     0   \n",
       "63389          108098.0  2015.0                     0   \n",
       "22593           51730.0  2016.0                     0   \n",
       "\n",
       "        SOC_NAME_ACCOUNTANTS AND AUDITORS  SOC_NAME_ACTUARIES  \\\n",
       "122669                                  0                   0   \n",
       "151953                                  0                   0   \n",
       "36852                                   0                   0   \n",
       "63389                                   0                   0   \n",
       "22593                                   0                   0   \n",
       "\n",
       "        SOC_NAME_ADMINISTRATIVE SERVICES MANAGERS  \\\n",
       "122669                                          0   \n",
       "151953                                          0   \n",
       "36852                                           0   \n",
       "63389                                           0   \n",
       "22593                                           0   \n",
       "\n",
       "        SOC_NAME_ADULT BASIC AND SECONDARY EDUCATION AND LITERACY  \\\n",
       "122669                                                  0           \n",
       "151953                                                  0           \n",
       "36852                                                   0           \n",
       "63389                                                   0           \n",
       "22593                                                   0           \n",
       "\n",
       "        SOC_NAME_ADVERTISING AND PROMOTIONS MANAGER  \\\n",
       "122669                                            0   \n",
       "151953                                            0   \n",
       "36852                                             0   \n",
       "63389                                             0   \n",
       "22593                                             0   \n",
       "\n",
       "        SOC_NAME_ADVERTISING AND PROMOTIONS MANAGERS  \\\n",
       "122669                                             0   \n",
       "151953                                             0   \n",
       "36852                                              0   \n",
       "63389                                              0   \n",
       "22593                                              0   \n",
       "\n",
       "        SOC_NAME_ADVERTISING SALES AGENTS        ...         \\\n",
       "122669                                  0        ...          \n",
       "151953                                  0        ...          \n",
       "36852                                   0        ...          \n",
       "63389                                   0        ...          \n",
       "22593                                   0        ...          \n",
       "\n",
       "        SOC_NAME_Welders, Cutters, Solderers, and Brazers  \\\n",
       "122669                                                  0   \n",
       "151953                                                  0   \n",
       "36852                                                   0   \n",
       "63389                                                   0   \n",
       "22593                                                   0   \n",
       "\n",
       "        SOC_NAME_Wholesale and Retail Buyers, Except Farm Products  \\\n",
       "122669                                                  0            \n",
       "151953                                                  0            \n",
       "36852                                                   0            \n",
       "63389                                                   0            \n",
       "22593                                                   0            \n",
       "\n",
       "        SOC_NAME_Woodworkers, All Other  SOC_NAME_Writers and Authors  \\\n",
       "122669                                0                             0   \n",
       "151953                                0                             0   \n",
       "36852                                 0                             0   \n",
       "63389                                 0                             0   \n",
       "22593                                 0                             0   \n",
       "\n",
       "        SOC_NAME_ZOOLOGISTS AND WILDLIFE BIOLOGISTS  \\\n",
       "122669                                            0   \n",
       "151953                                            0   \n",
       "36852                                             0   \n",
       "63389                                             0   \n",
       "22593                                             0   \n",
       "\n",
       "        SOC_NAME_Zoologists and Wildlife Biologists  FULL_TIME_POSITION_N  \\\n",
       "122669                                            0                     0   \n",
       "151953                                            0                     0   \n",
       "36852                                             0                     0   \n",
       "63389                                             0                     0   \n",
       "22593                                             0                     1   \n",
       "\n",
       "        FULL_TIME_POSITION_Y  Actual_Status  Predicted_Status  \n",
       "122669                     1              1                 0  \n",
       "151953                     1              0                 0  \n",
       "36852                      1              0                 0  \n",
       "63389                      1              0                 0  \n",
       "22593                      0              0                 0  \n",
       "\n",
       "[5 rows x 1240 columns]"
      ]
     },
     "execution_count": 156,
     "metadata": {},
     "output_type": "execute_result"
    }
   ],
   "source": [
    "modified_x_test.head()"
   ]
  },
  {
   "cell_type": "code",
   "execution_count": 101,
   "metadata": {},
   "outputs": [
    {
     "name": "stderr",
     "output_type": "stream",
     "text": [
      "/usr/local/lib/python3.5/site-packages/ipykernel_launcher.py:1: SettingWithCopyWarning: \n",
      "A value is trying to be set on a copy of a slice from a DataFrame.\n",
      "Try using .loc[row_indexer,col_indexer] = value instead\n",
      "\n",
      "See the caveats in the documentation: http://pandas.pydata.org/pandas-docs/stable/indexing.html#indexing-view-versus-copy\n",
      "  \"\"\"Entry point for launching an IPython kernel.\n"
     ]
    }
   ],
   "source": [
    "# Adding the Predicted Status column\n",
    "modified_x_test['Predicted_Status'] = saved_test "
   ]
  },
  {
   "cell_type": "code",
   "execution_count": 157,
   "metadata": {},
   "outputs": [
    {
     "data": {
      "text/html": [
       "<div>\n",
       "<style scoped>\n",
       "    .dataframe tbody tr th:only-of-type {\n",
       "        vertical-align: middle;\n",
       "    }\n",
       "\n",
       "    .dataframe tbody tr th {\n",
       "        vertical-align: top;\n",
       "    }\n",
       "\n",
       "    .dataframe thead th {\n",
       "        text-align: right;\n",
       "    }\n",
       "</style>\n",
       "<table border=\"1\" class=\"dataframe\">\n",
       "  <thead>\n",
       "    <tr style=\"text-align: right;\">\n",
       "      <th></th>\n",
       "      <th>PREVAILING_WAGE</th>\n",
       "      <th>YEAR</th>\n",
       "      <th>SOC_NAME_ACCOUNTANTS</th>\n",
       "      <th>SOC_NAME_ACCOUNTANTS AND AUDITORS</th>\n",
       "      <th>SOC_NAME_ACTUARIES</th>\n",
       "      <th>SOC_NAME_ADMINISTRATIVE SERVICES MANAGERS</th>\n",
       "      <th>SOC_NAME_ADULT BASIC AND SECONDARY EDUCATION AND LITERACY</th>\n",
       "      <th>SOC_NAME_ADVERTISING AND PROMOTIONS MANAGER</th>\n",
       "      <th>SOC_NAME_ADVERTISING AND PROMOTIONS MANAGERS</th>\n",
       "      <th>SOC_NAME_ADVERTISING SALES AGENTS</th>\n",
       "      <th>...</th>\n",
       "      <th>SOC_NAME_Welders, Cutters, Solderers, and Brazers</th>\n",
       "      <th>SOC_NAME_Wholesale and Retail Buyers, Except Farm Products</th>\n",
       "      <th>SOC_NAME_Woodworkers, All Other</th>\n",
       "      <th>SOC_NAME_Writers and Authors</th>\n",
       "      <th>SOC_NAME_ZOOLOGISTS AND WILDLIFE BIOLOGISTS</th>\n",
       "      <th>SOC_NAME_Zoologists and Wildlife Biologists</th>\n",
       "      <th>FULL_TIME_POSITION_N</th>\n",
       "      <th>FULL_TIME_POSITION_Y</th>\n",
       "      <th>Actual_Status</th>\n",
       "      <th>Predicted_Status</th>\n",
       "    </tr>\n",
       "  </thead>\n",
       "  <tbody>\n",
       "    <tr>\n",
       "      <th>122669</th>\n",
       "      <td>162219.0</td>\n",
       "      <td>2014.0</td>\n",
       "      <td>0</td>\n",
       "      <td>0</td>\n",
       "      <td>0</td>\n",
       "      <td>0</td>\n",
       "      <td>0</td>\n",
       "      <td>0</td>\n",
       "      <td>0</td>\n",
       "      <td>0</td>\n",
       "      <td>...</td>\n",
       "      <td>0</td>\n",
       "      <td>0</td>\n",
       "      <td>0</td>\n",
       "      <td>0</td>\n",
       "      <td>0</td>\n",
       "      <td>0</td>\n",
       "      <td>0</td>\n",
       "      <td>1</td>\n",
       "      <td>1</td>\n",
       "      <td>0</td>\n",
       "    </tr>\n",
       "    <tr>\n",
       "      <th>151953</th>\n",
       "      <td>88130.0</td>\n",
       "      <td>2014.0</td>\n",
       "      <td>0</td>\n",
       "      <td>0</td>\n",
       "      <td>0</td>\n",
       "      <td>0</td>\n",
       "      <td>0</td>\n",
       "      <td>0</td>\n",
       "      <td>0</td>\n",
       "      <td>0</td>\n",
       "      <td>...</td>\n",
       "      <td>0</td>\n",
       "      <td>0</td>\n",
       "      <td>0</td>\n",
       "      <td>0</td>\n",
       "      <td>0</td>\n",
       "      <td>0</td>\n",
       "      <td>0</td>\n",
       "      <td>1</td>\n",
       "      <td>0</td>\n",
       "      <td>0</td>\n",
       "    </tr>\n",
       "    <tr>\n",
       "      <th>36852</th>\n",
       "      <td>114504.0</td>\n",
       "      <td>2016.0</td>\n",
       "      <td>0</td>\n",
       "      <td>0</td>\n",
       "      <td>0</td>\n",
       "      <td>0</td>\n",
       "      <td>0</td>\n",
       "      <td>0</td>\n",
       "      <td>0</td>\n",
       "      <td>0</td>\n",
       "      <td>...</td>\n",
       "      <td>0</td>\n",
       "      <td>0</td>\n",
       "      <td>0</td>\n",
       "      <td>0</td>\n",
       "      <td>0</td>\n",
       "      <td>0</td>\n",
       "      <td>0</td>\n",
       "      <td>1</td>\n",
       "      <td>0</td>\n",
       "      <td>0</td>\n",
       "    </tr>\n",
       "    <tr>\n",
       "      <th>63389</th>\n",
       "      <td>108098.0</td>\n",
       "      <td>2015.0</td>\n",
       "      <td>0</td>\n",
       "      <td>0</td>\n",
       "      <td>0</td>\n",
       "      <td>0</td>\n",
       "      <td>0</td>\n",
       "      <td>0</td>\n",
       "      <td>0</td>\n",
       "      <td>0</td>\n",
       "      <td>...</td>\n",
       "      <td>0</td>\n",
       "      <td>0</td>\n",
       "      <td>0</td>\n",
       "      <td>0</td>\n",
       "      <td>0</td>\n",
       "      <td>0</td>\n",
       "      <td>0</td>\n",
       "      <td>1</td>\n",
       "      <td>0</td>\n",
       "      <td>0</td>\n",
       "    </tr>\n",
       "    <tr>\n",
       "      <th>22593</th>\n",
       "      <td>51730.0</td>\n",
       "      <td>2016.0</td>\n",
       "      <td>0</td>\n",
       "      <td>0</td>\n",
       "      <td>0</td>\n",
       "      <td>0</td>\n",
       "      <td>0</td>\n",
       "      <td>0</td>\n",
       "      <td>0</td>\n",
       "      <td>0</td>\n",
       "      <td>...</td>\n",
       "      <td>0</td>\n",
       "      <td>0</td>\n",
       "      <td>0</td>\n",
       "      <td>0</td>\n",
       "      <td>0</td>\n",
       "      <td>0</td>\n",
       "      <td>1</td>\n",
       "      <td>0</td>\n",
       "      <td>0</td>\n",
       "      <td>0</td>\n",
       "    </tr>\n",
       "  </tbody>\n",
       "</table>\n",
       "<p>5 rows × 1240 columns</p>\n",
       "</div>"
      ],
      "text/plain": [
       "        PREVAILING_WAGE    YEAR  SOC_NAME_ACCOUNTANTS  \\\n",
       "122669         162219.0  2014.0                     0   \n",
       "151953          88130.0  2014.0                     0   \n",
       "36852          114504.0  2016.0                     0   \n",
       "63389          108098.0  2015.0                     0   \n",
       "22593           51730.0  2016.0                     0   \n",
       "\n",
       "        SOC_NAME_ACCOUNTANTS AND AUDITORS  SOC_NAME_ACTUARIES  \\\n",
       "122669                                  0                   0   \n",
       "151953                                  0                   0   \n",
       "36852                                   0                   0   \n",
       "63389                                   0                   0   \n",
       "22593                                   0                   0   \n",
       "\n",
       "        SOC_NAME_ADMINISTRATIVE SERVICES MANAGERS  \\\n",
       "122669                                          0   \n",
       "151953                                          0   \n",
       "36852                                           0   \n",
       "63389                                           0   \n",
       "22593                                           0   \n",
       "\n",
       "        SOC_NAME_ADULT BASIC AND SECONDARY EDUCATION AND LITERACY  \\\n",
       "122669                                                  0           \n",
       "151953                                                  0           \n",
       "36852                                                   0           \n",
       "63389                                                   0           \n",
       "22593                                                   0           \n",
       "\n",
       "        SOC_NAME_ADVERTISING AND PROMOTIONS MANAGER  \\\n",
       "122669                                            0   \n",
       "151953                                            0   \n",
       "36852                                             0   \n",
       "63389                                             0   \n",
       "22593                                             0   \n",
       "\n",
       "        SOC_NAME_ADVERTISING AND PROMOTIONS MANAGERS  \\\n",
       "122669                                             0   \n",
       "151953                                             0   \n",
       "36852                                              0   \n",
       "63389                                              0   \n",
       "22593                                              0   \n",
       "\n",
       "        SOC_NAME_ADVERTISING SALES AGENTS        ...         \\\n",
       "122669                                  0        ...          \n",
       "151953                                  0        ...          \n",
       "36852                                   0        ...          \n",
       "63389                                   0        ...          \n",
       "22593                                   0        ...          \n",
       "\n",
       "        SOC_NAME_Welders, Cutters, Solderers, and Brazers  \\\n",
       "122669                                                  0   \n",
       "151953                                                  0   \n",
       "36852                                                   0   \n",
       "63389                                                   0   \n",
       "22593                                                   0   \n",
       "\n",
       "        SOC_NAME_Wholesale and Retail Buyers, Except Farm Products  \\\n",
       "122669                                                  0            \n",
       "151953                                                  0            \n",
       "36852                                                   0            \n",
       "63389                                                   0            \n",
       "22593                                                   0            \n",
       "\n",
       "        SOC_NAME_Woodworkers, All Other  SOC_NAME_Writers and Authors  \\\n",
       "122669                                0                             0   \n",
       "151953                                0                             0   \n",
       "36852                                 0                             0   \n",
       "63389                                 0                             0   \n",
       "22593                                 0                             0   \n",
       "\n",
       "        SOC_NAME_ZOOLOGISTS AND WILDLIFE BIOLOGISTS  \\\n",
       "122669                                            0   \n",
       "151953                                            0   \n",
       "36852                                             0   \n",
       "63389                                             0   \n",
       "22593                                             0   \n",
       "\n",
       "        SOC_NAME_Zoologists and Wildlife Biologists  FULL_TIME_POSITION_N  \\\n",
       "122669                                            0                     0   \n",
       "151953                                            0                     0   \n",
       "36852                                             0                     0   \n",
       "63389                                             0                     0   \n",
       "22593                                             0                     1   \n",
       "\n",
       "        FULL_TIME_POSITION_Y  Actual_Status  Predicted_Status  \n",
       "122669                     1              1                 0  \n",
       "151953                     1              0                 0  \n",
       "36852                      1              0                 0  \n",
       "63389                      1              0                 0  \n",
       "22593                      0              0                 0  \n",
       "\n",
       "[5 rows x 1240 columns]"
      ]
     },
     "execution_count": 157,
     "metadata": {},
     "output_type": "execute_result"
    }
   ],
   "source": [
    "modified_x_test.head()"
   ]
  },
  {
   "cell_type": "code",
   "execution_count": 103,
   "metadata": {},
   "outputs": [],
   "source": [
    "# Identifying false classifications within the model \n",
    "false_classification = modified_x_test.query('Actual_Status != Predicted_Status')"
   ]
  },
  {
   "cell_type": "code",
   "execution_count": 146,
   "metadata": {},
   "outputs": [
    {
     "data": {
      "text/html": [
       "<div>\n",
       "<style scoped>\n",
       "    .dataframe tbody tr th:only-of-type {\n",
       "        vertical-align: middle;\n",
       "    }\n",
       "\n",
       "    .dataframe tbody tr th {\n",
       "        vertical-align: top;\n",
       "    }\n",
       "\n",
       "    .dataframe thead th {\n",
       "        text-align: right;\n",
       "    }\n",
       "</style>\n",
       "<table border=\"1\" class=\"dataframe\">\n",
       "  <thead>\n",
       "    <tr style=\"text-align: right;\">\n",
       "      <th></th>\n",
       "      <th>PREVAILING_WAGE</th>\n",
       "      <th>YEAR</th>\n",
       "      <th>SOC_NAME_ACCOUNTANTS</th>\n",
       "      <th>SOC_NAME_ACCOUNTANTS AND AUDITORS</th>\n",
       "      <th>SOC_NAME_ACTUARIES</th>\n",
       "      <th>SOC_NAME_ADMINISTRATIVE SERVICES MANAGERS</th>\n",
       "      <th>SOC_NAME_ADULT BASIC AND SECONDARY EDUCATION AND LITERACY</th>\n",
       "      <th>SOC_NAME_ADVERTISING AND PROMOTIONS MANAGER</th>\n",
       "      <th>SOC_NAME_ADVERTISING AND PROMOTIONS MANAGERS</th>\n",
       "      <th>SOC_NAME_ADVERTISING SALES AGENTS</th>\n",
       "      <th>...</th>\n",
       "      <th>SOC_NAME_Welders, Cutters, Solderers, and Brazers</th>\n",
       "      <th>SOC_NAME_Wholesale and Retail Buyers, Except Farm Products</th>\n",
       "      <th>SOC_NAME_Woodworkers, All Other</th>\n",
       "      <th>SOC_NAME_Writers and Authors</th>\n",
       "      <th>SOC_NAME_ZOOLOGISTS AND WILDLIFE BIOLOGISTS</th>\n",
       "      <th>SOC_NAME_Zoologists and Wildlife Biologists</th>\n",
       "      <th>FULL_TIME_POSITION_N</th>\n",
       "      <th>FULL_TIME_POSITION_Y</th>\n",
       "      <th>Actual_Status</th>\n",
       "      <th>Predicted_Status</th>\n",
       "    </tr>\n",
       "  </thead>\n",
       "  <tbody>\n",
       "    <tr>\n",
       "      <th>122669</th>\n",
       "      <td>162219.0</td>\n",
       "      <td>2014.0</td>\n",
       "      <td>0</td>\n",
       "      <td>0</td>\n",
       "      <td>0</td>\n",
       "      <td>0</td>\n",
       "      <td>0</td>\n",
       "      <td>0</td>\n",
       "      <td>0</td>\n",
       "      <td>0</td>\n",
       "      <td>...</td>\n",
       "      <td>0</td>\n",
       "      <td>0</td>\n",
       "      <td>0</td>\n",
       "      <td>0</td>\n",
       "      <td>0</td>\n",
       "      <td>0</td>\n",
       "      <td>0</td>\n",
       "      <td>1</td>\n",
       "      <td>1</td>\n",
       "      <td>0</td>\n",
       "    </tr>\n",
       "    <tr>\n",
       "      <th>55289</th>\n",
       "      <td>49462.0</td>\n",
       "      <td>2016.0</td>\n",
       "      <td>0</td>\n",
       "      <td>0</td>\n",
       "      <td>0</td>\n",
       "      <td>0</td>\n",
       "      <td>0</td>\n",
       "      <td>0</td>\n",
       "      <td>0</td>\n",
       "      <td>0</td>\n",
       "      <td>...</td>\n",
       "      <td>0</td>\n",
       "      <td>0</td>\n",
       "      <td>0</td>\n",
       "      <td>0</td>\n",
       "      <td>0</td>\n",
       "      <td>0</td>\n",
       "      <td>1</td>\n",
       "      <td>0</td>\n",
       "      <td>1</td>\n",
       "      <td>0</td>\n",
       "    </tr>\n",
       "    <tr>\n",
       "      <th>240832</th>\n",
       "      <td>52894.0</td>\n",
       "      <td>2011.0</td>\n",
       "      <td>0</td>\n",
       "      <td>0</td>\n",
       "      <td>0</td>\n",
       "      <td>0</td>\n",
       "      <td>0</td>\n",
       "      <td>0</td>\n",
       "      <td>0</td>\n",
       "      <td>0</td>\n",
       "      <td>...</td>\n",
       "      <td>0</td>\n",
       "      <td>0</td>\n",
       "      <td>0</td>\n",
       "      <td>0</td>\n",
       "      <td>0</td>\n",
       "      <td>0</td>\n",
       "      <td>0</td>\n",
       "      <td>1</td>\n",
       "      <td>1</td>\n",
       "      <td>0</td>\n",
       "    </tr>\n",
       "    <tr>\n",
       "      <th>242076</th>\n",
       "      <td>26478.4</td>\n",
       "      <td>2011.0</td>\n",
       "      <td>0</td>\n",
       "      <td>0</td>\n",
       "      <td>0</td>\n",
       "      <td>0</td>\n",
       "      <td>0</td>\n",
       "      <td>0</td>\n",
       "      <td>0</td>\n",
       "      <td>0</td>\n",
       "      <td>...</td>\n",
       "      <td>0</td>\n",
       "      <td>0</td>\n",
       "      <td>0</td>\n",
       "      <td>0</td>\n",
       "      <td>0</td>\n",
       "      <td>0</td>\n",
       "      <td>1</td>\n",
       "      <td>0</td>\n",
       "      <td>1</td>\n",
       "      <td>0</td>\n",
       "    </tr>\n",
       "    <tr>\n",
       "      <th>268178</th>\n",
       "      <td>41808.0</td>\n",
       "      <td>2011.0</td>\n",
       "      <td>0</td>\n",
       "      <td>0</td>\n",
       "      <td>0</td>\n",
       "      <td>0</td>\n",
       "      <td>0</td>\n",
       "      <td>0</td>\n",
       "      <td>0</td>\n",
       "      <td>0</td>\n",
       "      <td>...</td>\n",
       "      <td>0</td>\n",
       "      <td>0</td>\n",
       "      <td>0</td>\n",
       "      <td>0</td>\n",
       "      <td>0</td>\n",
       "      <td>0</td>\n",
       "      <td>0</td>\n",
       "      <td>1</td>\n",
       "      <td>1</td>\n",
       "      <td>0</td>\n",
       "    </tr>\n",
       "  </tbody>\n",
       "</table>\n",
       "<p>5 rows × 1240 columns</p>\n",
       "</div>"
      ],
      "text/plain": [
       "        PREVAILING_WAGE    YEAR  SOC_NAME_ACCOUNTANTS  \\\n",
       "122669         162219.0  2014.0                     0   \n",
       "55289           49462.0  2016.0                     0   \n",
       "240832          52894.0  2011.0                     0   \n",
       "242076          26478.4  2011.0                     0   \n",
       "268178          41808.0  2011.0                     0   \n",
       "\n",
       "        SOC_NAME_ACCOUNTANTS AND AUDITORS  SOC_NAME_ACTUARIES  \\\n",
       "122669                                  0                   0   \n",
       "55289                                   0                   0   \n",
       "240832                                  0                   0   \n",
       "242076                                  0                   0   \n",
       "268178                                  0                   0   \n",
       "\n",
       "        SOC_NAME_ADMINISTRATIVE SERVICES MANAGERS  \\\n",
       "122669                                          0   \n",
       "55289                                           0   \n",
       "240832                                          0   \n",
       "242076                                          0   \n",
       "268178                                          0   \n",
       "\n",
       "        SOC_NAME_ADULT BASIC AND SECONDARY EDUCATION AND LITERACY  \\\n",
       "122669                                                  0           \n",
       "55289                                                   0           \n",
       "240832                                                  0           \n",
       "242076                                                  0           \n",
       "268178                                                  0           \n",
       "\n",
       "        SOC_NAME_ADVERTISING AND PROMOTIONS MANAGER  \\\n",
       "122669                                            0   \n",
       "55289                                             0   \n",
       "240832                                            0   \n",
       "242076                                            0   \n",
       "268178                                            0   \n",
       "\n",
       "        SOC_NAME_ADVERTISING AND PROMOTIONS MANAGERS  \\\n",
       "122669                                             0   \n",
       "55289                                              0   \n",
       "240832                                             0   \n",
       "242076                                             0   \n",
       "268178                                             0   \n",
       "\n",
       "        SOC_NAME_ADVERTISING SALES AGENTS        ...         \\\n",
       "122669                                  0        ...          \n",
       "55289                                   0        ...          \n",
       "240832                                  0        ...          \n",
       "242076                                  0        ...          \n",
       "268178                                  0        ...          \n",
       "\n",
       "        SOC_NAME_Welders, Cutters, Solderers, and Brazers  \\\n",
       "122669                                                  0   \n",
       "55289                                                   0   \n",
       "240832                                                  0   \n",
       "242076                                                  0   \n",
       "268178                                                  0   \n",
       "\n",
       "        SOC_NAME_Wholesale and Retail Buyers, Except Farm Products  \\\n",
       "122669                                                  0            \n",
       "55289                                                   0            \n",
       "240832                                                  0            \n",
       "242076                                                  0            \n",
       "268178                                                  0            \n",
       "\n",
       "        SOC_NAME_Woodworkers, All Other  SOC_NAME_Writers and Authors  \\\n",
       "122669                                0                             0   \n",
       "55289                                 0                             0   \n",
       "240832                                0                             0   \n",
       "242076                                0                             0   \n",
       "268178                                0                             0   \n",
       "\n",
       "        SOC_NAME_ZOOLOGISTS AND WILDLIFE BIOLOGISTS  \\\n",
       "122669                                            0   \n",
       "55289                                             0   \n",
       "240832                                            0   \n",
       "242076                                            0   \n",
       "268178                                            0   \n",
       "\n",
       "        SOC_NAME_Zoologists and Wildlife Biologists  FULL_TIME_POSITION_N  \\\n",
       "122669                                            0                     0   \n",
       "55289                                             0                     1   \n",
       "240832                                            0                     0   \n",
       "242076                                            0                     1   \n",
       "268178                                            0                     0   \n",
       "\n",
       "        FULL_TIME_POSITION_Y  Actual_Status  Predicted_Status  \n",
       "122669                     1              1                 0  \n",
       "55289                      0              1                 0  \n",
       "240832                     1              1                 0  \n",
       "242076                     0              1                 0  \n",
       "268178                     1              1                 0  \n",
       "\n",
       "[5 rows x 1240 columns]"
      ]
     },
     "execution_count": 146,
     "metadata": {},
     "output_type": "execute_result"
    }
   ],
   "source": [
    "false_classification.head()"
   ]
  },
  {
   "cell_type": "code",
   "execution_count": 105,
   "metadata": {},
   "outputs": [
    {
     "data": {
      "image/png": "[encoded data removed]",
      "text/plain": [
       "<Figure size 720x576 with 1 Axes>"
      ]
     },
     "metadata": {},
     "output_type": "display_data"
    }
   ],
   "source": [
    "plt.figure(figsize=(10,8))\n",
    "ax=false_classification['Actual_Status'].value_counts().sort_values(ascending=True).plot.barh(width=0.9,color='black')\n",
    "for i, v in enumerate(false_classification['Actual_Status'].value_counts().sort_values(ascending=True).values): \n",
    "    ax.text(.8, i, v,fontsize=12,color='white',weight='bold')\n",
    "plt.title('Total Cases')\n",
    "plt.show()"
   ]
  },
  {
   "cell_type": "markdown",
   "metadata": {},
   "source": [
    "### This shows that every time the classifier was wrong, it was showing a false negative amount if 1766. \n"
   ]
  },
  {
   "cell_type": "markdown",
   "metadata": {},
   "source": [
    "### Comparison between false and correct classifications"
   ]
  },
  {
   "cell_type": "code",
   "execution_count": 154,
   "metadata": {},
   "outputs": [
    {
     "data": {
      "text/plain": [
       "<matplotlib.axes._subplots.AxesSubplot at 0x7f632d7863c8>"
      ]
     },
     "execution_count": 154,
     "metadata": {},
     "output_type": "execute_result"
    },
    {
     "data": {
      "image/png": "[encoded data removed]",
      "text/plain": [
       "<Figure size 432x288 with 1 Axes>"
      ]
     },
     "metadata": {},
     "output_type": "display_data"
    }
   ],
   "source": [
    "# Looking at the full time positions in the false classification data\n",
    "false_classification.FULL_TIME_POSITION_Y.hist()"
   ]
  },
  {
   "cell_type": "code",
   "execution_count": 151,
   "metadata": {},
   "outputs": [],
   "source": [
    "correct_classification = modified_x_test.query('Actual_Status == Predicted_Status')"
   ]
  },
  {
   "cell_type": "code",
   "execution_count": 152,
   "metadata": {},
   "outputs": [
    {
     "data": {
      "text/plain": [
       "<matplotlib.axes._subplots.AxesSubplot at 0x7f639a9a3da0>"
      ]
     },
     "execution_count": 152,
     "metadata": {},
     "output_type": "execute_result"
    },
    {
     "data": {
      "image/png": "[encoded data removed]",
      "text/plain": [
       "<Figure size 432x288 with 1 Axes>"
      ]
     },
     "metadata": {},
     "output_type": "display_data"
    }
   ],
   "source": [
    "# looking at the full time positions in the correct data classification \n",
    "correct_classification.FULL_TIME_POSITION_Y.hist()"
   ]
  },
  {
   "cell_type": "markdown",
   "metadata": {},
   "source": [
    "#### By just looking at the Y axis, there is a huge change between the correct and false classified data in terms of full time positions."
   ]
  },
  {
   "cell_type": "code",
   "execution_count": 159,
   "metadata": {},
   "outputs": [
    {
     "data": {
      "text/plain": [
       "<matplotlib.axes._subplots.AxesSubplot at 0x7f638b847320>"
      ]
     },
     "execution_count": 159,
     "metadata": {},
     "output_type": "execute_result"
    },
    {
     "data": {
      "image/png": "[encoded data removed]",
      "text/plain": [
       "<Figure size 432x288 with 1 Axes>"
      ]
     },
     "metadata": {},
     "output_type": "display_data"
    }
   ],
   "source": [
    "# Looking at the year in the false classification data\n",
    "false_classification.YEAR.hist()"
   ]
  },
  {
   "cell_type": "code",
   "execution_count": 160,
   "metadata": {},
   "outputs": [
    {
     "data": {
      "text/plain": [
       "<matplotlib.axes._subplots.AxesSubplot at 0x7f633d9a7cc0>"
      ]
     },
     "execution_count": 160,
     "metadata": {},
     "output_type": "execute_result"
    },
    {
     "data": {
      "image/png": "[encoded data removed]",
      "text/plain": [
       "<Figure size 432x288 with 1 Axes>"
      ]
     },
     "metadata": {},
     "output_type": "display_data"
    }
   ],
   "source": [
    "# looking at the year in the correct data classification \n",
    "correct_classification.YEAR.hist()"
   ]
  },
  {
   "cell_type": "markdown",
   "metadata": {},
   "source": [
    "#### It is clear that the false classifications are decreasing over time, and the correct classifications are increasing. This is a good sign and shows that the classification model has improved over the years. It can also be perceived that the administration that oversees the H1-B application has implemented a more consistant method overtime. Therefore the classification model was able to predict better results over time. "
   ]
  },
  {
   "cell_type": "code",
   "execution_count": 161,
   "metadata": {},
   "outputs": [
    {
     "data": {
      "text/plain": [
       "<matplotlib.axes._subplots.AxesSubplot at 0x7f639c6d54e0>"
      ]
     },
     "execution_count": 161,
     "metadata": {},
     "output_type": "execute_result"
    },
    {
     "data": {
      "image/png": "[encoded data removed]",
      "text/plain": [
       "<Figure size 432x288 with 1 Axes>"
      ]
     },
     "metadata": {},
     "output_type": "display_data"
    }
   ],
   "source": [
    "# Looking at the prevailing wage in the false classification data\n",
    "false_classification.PREVAILING_WAGE.hist()"
   ]
  },
  {
   "cell_type": "code",
   "execution_count": 165,
   "metadata": {},
   "outputs": [
    {
     "data": {
      "text/plain": [
       "<matplotlib.axes._subplots.AxesSubplot at 0x7f637fcaa470>"
      ]
     },
     "execution_count": 165,
     "metadata": {},
     "output_type": "execute_result"
    },
    {
     "data": {
      "image/png": "[encoded data removed]",
      "text/plain": [
       "<Figure size 432x288 with 1 Axes>"
      ]
     },
     "metadata": {},
     "output_type": "display_data"
    }
   ],
   "source": [
    "# looking at the prevailing wage in the correct data classification \n",
    "correct_classification.PREVAILING_WAGE.hist()"
   ]
  },
  {
   "cell_type": "markdown",
   "metadata": {},
   "source": [
    "### Overall, the Correct and false classification were similar to an extent that they did not offer a trigger for further exploration. There was a change in the years, but in terms of wages and full time distribution, the change was not significant.  "
   ]
  },
  {
   "cell_type": "markdown",
   "metadata": {},
   "source": [
    "## 2- Using GridSearchCV class to try to find the best values for the hyperparameters for logistic regression."
   ]
  },
  {
   "cell_type": "code",
   "execution_count": 107,
   "metadata": {},
   "outputs": [
    {
     "data": {
      "text/plain": [
       "GridSearchCV(cv=None, error_score='raise',\n",
       "       estimator=LogisticRegression(C=1.0, class_weight=None, dual=False, fit_intercept=True,\n",
       "          intercept_scaling=1, max_iter=100, multi_class='ovr', n_jobs=1,\n",
       "          penalty='l2', random_state=None, solver='liblinear', tol=0.0001,\n",
       "          verbose=0, warm_start=False),\n",
       "       fit_params=None, iid=True, n_jobs=1,\n",
       "       param_grid={'dual': [True, False], 'warm_start': [True, False]},\n",
       "       pre_dispatch='2*n_jobs', refit=True, return_train_score='warn',\n",
       "       scoring=None, verbose=0)"
      ]
     },
     "execution_count": 107,
     "metadata": {},
     "output_type": "execute_result"
    }
   ],
   "source": [
    "#2 Hyperparameter (Choosing Logistic Regression) using GridSearchCV\n",
    "from sklearn.model_selection import GridSearchCV\n",
    "parameters = {'warm_start':[True,False], 'dual':[True,False]}\n",
    "lr = LogisticRegression()\n",
    "clf = GridSearchCV(lr, parameters)\n",
    "clf.fit(X_test, y_test)"
   ]
  },
  {
   "cell_type": "code",
   "execution_count": 108,
   "metadata": {},
   "outputs": [
    {
     "data": {
      "text/plain": [
       "{'cv': None,\n",
       " 'error_score': 'raise',\n",
       " 'estimator': LogisticRegression(C=1.0, class_weight=None, dual=False, fit_intercept=True,\n",
       "           intercept_scaling=1, max_iter=100, multi_class='ovr', n_jobs=1,\n",
       "           penalty='l2', random_state=None, solver='liblinear', tol=0.0001,\n",
       "           verbose=0, warm_start=False),\n",
       " 'estimator__C': 1.0,\n",
       " 'estimator__class_weight': None,\n",
       " 'estimator__dual': False,\n",
       " 'estimator__fit_intercept': True,\n",
       " 'estimator__intercept_scaling': 1,\n",
       " 'estimator__max_iter': 100,\n",
       " 'estimator__multi_class': 'ovr',\n",
       " 'estimator__n_jobs': 1,\n",
       " 'estimator__penalty': 'l2',\n",
       " 'estimator__random_state': None,\n",
       " 'estimator__solver': 'liblinear',\n",
       " 'estimator__tol': 0.0001,\n",
       " 'estimator__verbose': 0,\n",
       " 'estimator__warm_start': False,\n",
       " 'fit_params': None,\n",
       " 'iid': True,\n",
       " 'n_jobs': 1,\n",
       " 'param_grid': {'dual': [True, False], 'warm_start': [True, False]},\n",
       " 'pre_dispatch': '2*n_jobs',\n",
       " 'refit': True,\n",
       " 'return_train_score': 'warn',\n",
       " 'scoring': None,\n",
       " 'verbose': 0}"
      ]
     },
     "execution_count": 108,
     "metadata": {},
     "output_type": "execute_result"
    }
   ],
   "source": [
    "clf.get_params()"
   ]
  },
  {
   "cell_type": "code",
   "execution_count": 109,
   "metadata": {},
   "outputs": [],
   "source": [
    "tuned_prediction= clf.predict(X_test)"
   ]
  },
  {
   "cell_type": "code",
   "execution_count": 110,
   "metadata": {},
   "outputs": [
    {
     "name": "stdout",
     "output_type": "stream",
     "text": [
      "Accuracy Score: \n",
      " 0.9674\n"
     ]
    }
   ],
   "source": [
    " print(\"Accuracy Score: \\n\", round(accuracy_score(y_test, tuned_prediction), 5))"
   ]
  },
  {
   "cell_type": "markdown",
   "metadata": {},
   "source": [
    "### No improvements, the accuracy score is the same as before, therefore Hypterparameter does not offer any help. "
   ]
  },
  {
   "cell_type": "markdown",
   "metadata": {},
   "source": [
    "## 3- Using the Ensemble Idea to see if it might imrpove my results"
   ]
  },
  {
   "cell_type": "code",
   "execution_count": 126,
   "metadata": {},
   "outputs": [],
   "source": [
    "#3 Ensembles \n",
    "class ensemble_classifier:\n",
    "    def __init__(self):\n",
    "        self.nb = GaussianNB()\n",
    "        self.lr = LogisticRegression()\n",
    "        self.rf = RandomForestClassifier()\n",
    "        \n",
    "    def fit(self, X_train, y_train):\n",
    "        self.nb.fit(X_train, y_train)\n",
    "        self.lr.fit(X_train, y_train)\n",
    "        self.rf.fit(X_train, y_train)\n",
    "    \n",
    "    def predict(self, X):\n",
    "        nb_prediction = self.nb.predict(X)\n",
    "        lr_prediction = self.lr.predict(X)\n",
    "        rf_prediction = self.rf.predict(X)\n",
    "    \n",
    "        return np.array([1 if nb_prediction[k] + lr_prediction[k] + rf_prediction[k] > 1 else 0 for k in range(len(nb_prediction))])\n",
    "    "
   ]
  },
  {
   "cell_type": "code",
   "execution_count": 127,
   "metadata": {},
   "outputs": [
    {
     "name": "stdout",
     "output_type": "stream",
     "text": [
      "Accuracy Score: \n",
      " 0.96733\n",
      "Confusion Matrix: \n",
      " [[52391    20]\n",
      " [ 1750    16]]\n",
      "Classification Report: \n",
      "              precision    recall  f1-score   support\n",
      "\n",
      "          0       0.97      1.00      0.98     52411\n",
      "          1       0.44      0.01      0.02      1766\n",
      "\n",
      "avg / total       0.95      0.97      0.95     54177\n",
      "\n",
      "roc_auc_score_test: \n",
      " 0.50434\n"
     ]
    },
    {
     "data": {
      "text/plain": [
       "(array([0, 0, 0, ..., 0, 0, 0]), array([0, 0, 0, ..., 0, 0, 0]))"
      ]
     },
     "execution_count": 127,
     "metadata": {},
     "output_type": "execute_result"
    }
   ],
   "source": [
    "b = ensemble_classifier()\n",
    "train_predict(b, X_train, y_train, X_test, y_test)\n"
   ]
  },
  {
   "cell_type": "markdown",
   "metadata": {},
   "source": [
    "### It appears that no significant improvement took place, in fact the accuracy score is less than the original (0.9674 that was offered using Logistic Regression) , so that is a little dissapointing :( . "
   ]
  }
 ],
 "metadata": {
  "kernelspec": {
   "display_name": "Python 3",
   "language": "python",
   "name": "python3"
  },
  "language_info": {
   "codemirror_mode": {
    "name": "ipython",
    "version": 3
   },
   "file_extension": ".py",
   "mimetype": "text/x-python",
   "name": "python",
   "nbconvert_exporter": "python",
   "pygments_lexer": "ipython3",
   "version": "3.5.1"
  }
 },
 "nbformat": 4,
 "nbformat_minor": 2
}
